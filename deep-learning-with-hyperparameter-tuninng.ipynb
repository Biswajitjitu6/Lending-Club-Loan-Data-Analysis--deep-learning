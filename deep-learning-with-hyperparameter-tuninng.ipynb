{
 "cells": [
  {
   "cell_type": "code",
   "execution_count": 6,
   "id": "a7919c71",
   "metadata": {
    "_cell_guid": "b1076dfc-b9ad-4769-8c92-a6c4dae69d19",
    "_uuid": "8f2839f25d086af736a60e9eeb907d3b93b6e0e5",
    "execution": {
     "iopub.execute_input": "2022-03-29T20:06:57.188783Z",
     "iopub.status.busy": "2022-03-29T20:06:57.186932Z",
     "iopub.status.idle": "2022-03-29T20:06:57.210051Z",
     "shell.execute_reply": "2022-03-29T20:06:57.209053Z",
     "shell.execute_reply.started": "2022-03-29T19:56:51.482493Z"
    },
    "papermill": {
     "duration": 0.070173,
     "end_time": "2022-03-29T20:06:57.210250",
     "exception": false,
     "start_time": "2022-03-29T20:06:57.140077",
     "status": "completed"
    },
    "tags": []
   },
   "outputs": [],
   "source": [
    "# This Python 3 environment comes with many helpful analytics libraries installed\n",
    "# It is defined by the kaggle/python Docker image: https://github.com/kaggle/docker-python\n",
    "# For example, here's several helpful packages to load\n",
    "\n",
    "import numpy as np # linear algebra\n",
    "import pandas as pd # data processing, CSV file I/O (e.g. pd.read_csv)\n",
    "\n",
    "# Input data files are available in the read-only \"../input/\" directory\n",
    "# For example, running this (by clicking run or pressing Shift+Enter) will list all files under the input directory\n",
    "\n",
    "import os\n",
    "for dirname, _, filenames in os.walk('/kaggle/input'):\n",
    "    for filename in filenames:\n",
    "        print(os.path.join(dirname, filename))\n",
    "\n",
    "# You can write up to 20GB to the current directory (/kaggle/working/) that gets preserved as output when you create a version using \"Save & Run All\" \n",
    "# You can also write temporary files to /kaggle/temp/, but they won't be saved outside of the current session"
   ]
  },
  {
   "cell_type": "code",
   "execution_count": 7,
   "id": "e6b8389a",
   "metadata": {
    "execution": {
     "iopub.execute_input": "2022-03-29T20:06:57.301306Z",
     "iopub.status.busy": "2022-03-29T20:06:57.300642Z",
     "iopub.status.idle": "2022-03-29T20:06:58.435951Z",
     "shell.execute_reply": "2022-03-29T20:06:58.435311Z",
     "shell.execute_reply.started": "2022-03-29T19:56:51.627788Z"
    },
    "papermill": {
     "duration": 1.181891,
     "end_time": "2022-03-29T20:06:58.436093",
     "exception": false,
     "start_time": "2022-03-29T20:06:57.254202",
     "status": "completed"
    },
    "tags": []
   },
   "outputs": [],
   "source": [
    "import pandas as pd\n",
    "import numpy as np\n",
    "import matplotlib.pyplot as plt\n",
    "import seaborn as sns\n",
    "import warnings\n",
    "warnings.filterwarnings('ignore')"
   ]
  },
  {
   "cell_type": "markdown",
   "id": "21d9a710",
   "metadata": {
    "papermill": {
     "duration": 0.044419,
     "end_time": "2022-03-29T20:06:58.522435",
     "exception": false,
     "start_time": "2022-03-29T20:06:58.478016",
     "status": "completed"
    },
    "tags": []
   },
   "source": [
    "**Reading data**"
   ]
  },
  {
   "cell_type": "code",
   "execution_count": 8,
   "id": "dcb2e18b",
   "metadata": {
    "execution": {
     "iopub.execute_input": "2022-03-29T20:06:58.612994Z",
     "iopub.status.busy": "2022-03-29T20:06:58.612294Z",
     "iopub.status.idle": "2022-03-29T20:06:58.678739Z",
     "shell.execute_reply": "2022-03-29T20:06:58.679244Z",
     "shell.execute_reply.started": "2022-03-29T19:56:51.780388Z"
    },
    "papermill": {
     "duration": 0.113752,
     "end_time": "2022-03-29T20:06:58.679452",
     "exception": false,
     "start_time": "2022-03-29T20:06:58.565700",
     "status": "completed"
    },
    "tags": []
   },
   "outputs": [
    {
     "data": {
      "text/html": [
       "<div>\n",
       "<style scoped>\n",
       "    .dataframe tbody tr th:only-of-type {\n",
       "        vertical-align: middle;\n",
       "    }\n",
       "\n",
       "    .dataframe tbody tr th {\n",
       "        vertical-align: top;\n",
       "    }\n",
       "\n",
       "    .dataframe thead th {\n",
       "        text-align: right;\n",
       "    }\n",
       "</style>\n",
       "<table border=\"1\" class=\"dataframe\">\n",
       "  <thead>\n",
       "    <tr style=\"text-align: right;\">\n",
       "      <th></th>\n",
       "      <th>credit.policy</th>\n",
       "      <th>purpose</th>\n",
       "      <th>int.rate</th>\n",
       "      <th>installment</th>\n",
       "      <th>log.annual.inc</th>\n",
       "      <th>dti</th>\n",
       "      <th>fico</th>\n",
       "      <th>days.with.cr.line</th>\n",
       "      <th>revol.bal</th>\n",
       "      <th>revol.util</th>\n",
       "      <th>inq.last.6mths</th>\n",
       "      <th>delinq.2yrs</th>\n",
       "      <th>pub.rec</th>\n",
       "      <th>not.fully.paid</th>\n",
       "    </tr>\n",
       "  </thead>\n",
       "  <tbody>\n",
       "    <tr>\n",
       "      <th>0</th>\n",
       "      <td>1</td>\n",
       "      <td>debt_consolidation</td>\n",
       "      <td>0.1189</td>\n",
       "      <td>829.10</td>\n",
       "      <td>11.350407</td>\n",
       "      <td>19.48</td>\n",
       "      <td>737</td>\n",
       "      <td>5639.958333</td>\n",
       "      <td>28854</td>\n",
       "      <td>52.1</td>\n",
       "      <td>0</td>\n",
       "      <td>0</td>\n",
       "      <td>0</td>\n",
       "      <td>0</td>\n",
       "    </tr>\n",
       "    <tr>\n",
       "      <th>1</th>\n",
       "      <td>1</td>\n",
       "      <td>credit_card</td>\n",
       "      <td>0.1071</td>\n",
       "      <td>228.22</td>\n",
       "      <td>11.082143</td>\n",
       "      <td>14.29</td>\n",
       "      <td>707</td>\n",
       "      <td>2760.000000</td>\n",
       "      <td>33623</td>\n",
       "      <td>76.7</td>\n",
       "      <td>0</td>\n",
       "      <td>0</td>\n",
       "      <td>0</td>\n",
       "      <td>0</td>\n",
       "    </tr>\n",
       "    <tr>\n",
       "      <th>2</th>\n",
       "      <td>1</td>\n",
       "      <td>debt_consolidation</td>\n",
       "      <td>0.1357</td>\n",
       "      <td>366.86</td>\n",
       "      <td>10.373491</td>\n",
       "      <td>11.63</td>\n",
       "      <td>682</td>\n",
       "      <td>4710.000000</td>\n",
       "      <td>3511</td>\n",
       "      <td>25.6</td>\n",
       "      <td>1</td>\n",
       "      <td>0</td>\n",
       "      <td>0</td>\n",
       "      <td>0</td>\n",
       "    </tr>\n",
       "    <tr>\n",
       "      <th>3</th>\n",
       "      <td>1</td>\n",
       "      <td>debt_consolidation</td>\n",
       "      <td>0.1008</td>\n",
       "      <td>162.34</td>\n",
       "      <td>11.350407</td>\n",
       "      <td>8.10</td>\n",
       "      <td>712</td>\n",
       "      <td>2699.958333</td>\n",
       "      <td>33667</td>\n",
       "      <td>73.2</td>\n",
       "      <td>1</td>\n",
       "      <td>0</td>\n",
       "      <td>0</td>\n",
       "      <td>0</td>\n",
       "    </tr>\n",
       "    <tr>\n",
       "      <th>4</th>\n",
       "      <td>1</td>\n",
       "      <td>credit_card</td>\n",
       "      <td>0.1426</td>\n",
       "      <td>102.92</td>\n",
       "      <td>11.299732</td>\n",
       "      <td>14.97</td>\n",
       "      <td>667</td>\n",
       "      <td>4066.000000</td>\n",
       "      <td>4740</td>\n",
       "      <td>39.5</td>\n",
       "      <td>0</td>\n",
       "      <td>1</td>\n",
       "      <td>0</td>\n",
       "      <td>0</td>\n",
       "    </tr>\n",
       "  </tbody>\n",
       "</table>\n",
       "</div>"
      ],
      "text/plain": [
       "   credit.policy             purpose  int.rate  installment  log.annual.inc  \\\n",
       "0              1  debt_consolidation    0.1189       829.10       11.350407   \n",
       "1              1         credit_card    0.1071       228.22       11.082143   \n",
       "2              1  debt_consolidation    0.1357       366.86       10.373491   \n",
       "3              1  debt_consolidation    0.1008       162.34       11.350407   \n",
       "4              1         credit_card    0.1426       102.92       11.299732   \n",
       "\n",
       "     dti  fico  days.with.cr.line  revol.bal  revol.util  inq.last.6mths  \\\n",
       "0  19.48   737        5639.958333      28854        52.1               0   \n",
       "1  14.29   707        2760.000000      33623        76.7               0   \n",
       "2  11.63   682        4710.000000       3511        25.6               1   \n",
       "3   8.10   712        2699.958333      33667        73.2               1   \n",
       "4  14.97   667        4066.000000       4740        39.5               0   \n",
       "\n",
       "   delinq.2yrs  pub.rec  not.fully.paid  \n",
       "0            0        0               0  \n",
       "1            0        0               0  \n",
       "2            0        0               0  \n",
       "3            0        0               0  \n",
       "4            1        0               0  "
      ]
     },
     "execution_count": 8,
     "metadata": {},
     "output_type": "execute_result"
    }
   ],
   "source": [
    "data = pd.read_csv(\"D:\\Downloads\\loan_data.csv\")\n",
    "data.head()"
   ]
  },
  {
   "cell_type": "markdown",
   "id": "9c6dda7f",
   "metadata": {
    "papermill": {
     "duration": 0.043135,
     "end_time": "2022-03-29T20:06:58.765254",
     "exception": false,
     "start_time": "2022-03-29T20:06:58.722119",
     "status": "completed"
    },
    "tags": []
   },
   "source": [
    "**Checking for null values**"
   ]
  },
  {
   "cell_type": "code",
   "execution_count": 9,
   "id": "47b910a7",
   "metadata": {
    "execution": {
     "iopub.execute_input": "2022-03-29T20:06:58.855731Z",
     "iopub.status.busy": "2022-03-29T20:06:58.855039Z",
     "iopub.status.idle": "2022-03-29T20:06:58.863311Z",
     "shell.execute_reply": "2022-03-29T20:06:58.863833Z",
     "shell.execute_reply.started": "2022-03-29T19:56:51.903603Z"
    },
    "papermill": {
     "duration": 0.0557,
     "end_time": "2022-03-29T20:06:58.864010",
     "exception": false,
     "start_time": "2022-03-29T20:06:58.808310",
     "status": "completed"
    },
    "tags": []
   },
   "outputs": [
    {
     "data": {
      "text/plain": [
       "credit.policy        0\n",
       "purpose              0\n",
       "int.rate             0\n",
       "installment          0\n",
       "log.annual.inc       0\n",
       "dti                  0\n",
       "fico                 0\n",
       "days.with.cr.line    0\n",
       "revol.bal            0\n",
       "revol.util           0\n",
       "inq.last.6mths       0\n",
       "delinq.2yrs          0\n",
       "pub.rec              0\n",
       "not.fully.paid       0\n",
       "dtype: int64"
      ]
     },
     "execution_count": 9,
     "metadata": {},
     "output_type": "execute_result"
    }
   ],
   "source": [
    "data.isnull().sum()"
   ]
  },
  {
   "cell_type": "code",
   "execution_count": 10,
   "id": "f0a3661d",
   "metadata": {
    "execution": {
     "iopub.execute_input": "2022-03-29T20:06:58.954897Z",
     "iopub.status.busy": "2022-03-29T20:06:58.954291Z",
     "iopub.status.idle": "2022-03-29T20:06:58.962865Z",
     "shell.execute_reply": "2022-03-29T20:06:58.963435Z",
     "shell.execute_reply.started": "2022-03-29T19:56:52.023744Z"
    },
    "papermill": {
     "duration": 0.056534,
     "end_time": "2022-03-29T20:06:58.963606",
     "exception": false,
     "start_time": "2022-03-29T20:06:58.907072",
     "status": "completed"
    },
    "tags": []
   },
   "outputs": [
    {
     "data": {
      "text/plain": [
       "credit.policy        0\n",
       "purpose              0\n",
       "int.rate             0\n",
       "installment          0\n",
       "log.annual.inc       0\n",
       "dti                  0\n",
       "fico                 0\n",
       "days.with.cr.line    0\n",
       "revol.bal            0\n",
       "revol.util           0\n",
       "inq.last.6mths       0\n",
       "delinq.2yrs          0\n",
       "pub.rec              0\n",
       "not.fully.paid       0\n",
       "dtype: int64"
      ]
     },
     "execution_count": 10,
     "metadata": {},
     "output_type": "execute_result"
    }
   ],
   "source": [
    "data.isna().sum()"
   ]
  },
  {
   "cell_type": "code",
   "execution_count": 11,
   "id": "a9a65c82",
   "metadata": {
    "execution": {
     "iopub.execute_input": "2022-03-29T20:06:59.053252Z",
     "iopub.status.busy": "2022-03-29T20:06:59.052597Z",
     "iopub.status.idle": "2022-03-29T20:06:59.077299Z",
     "shell.execute_reply": "2022-03-29T20:06:59.077887Z",
     "shell.execute_reply.started": "2022-03-29T19:56:52.137715Z"
    },
    "papermill": {
     "duration": 0.071098,
     "end_time": "2022-03-29T20:06:59.078055",
     "exception": false,
     "start_time": "2022-03-29T20:06:59.006957",
     "status": "completed"
    },
    "tags": []
   },
   "outputs": [
    {
     "name": "stdout",
     "output_type": "stream",
     "text": [
      "<class 'pandas.core.frame.DataFrame'>\n",
      "RangeIndex: 9578 entries, 0 to 9577\n",
      "Data columns (total 14 columns):\n",
      " #   Column             Non-Null Count  Dtype  \n",
      "---  ------             --------------  -----  \n",
      " 0   credit.policy      9578 non-null   int64  \n",
      " 1   purpose            9578 non-null   object \n",
      " 2   int.rate           9578 non-null   float64\n",
      " 3   installment        9578 non-null   float64\n",
      " 4   log.annual.inc     9578 non-null   float64\n",
      " 5   dti                9578 non-null   float64\n",
      " 6   fico               9578 non-null   int64  \n",
      " 7   days.with.cr.line  9578 non-null   float64\n",
      " 8   revol.bal          9578 non-null   int64  \n",
      " 9   revol.util         9578 non-null   float64\n",
      " 10  inq.last.6mths     9578 non-null   int64  \n",
      " 11  delinq.2yrs        9578 non-null   int64  \n",
      " 12  pub.rec            9578 non-null   int64  \n",
      " 13  not.fully.paid     9578 non-null   int64  \n",
      "dtypes: float64(6), int64(7), object(1)\n",
      "memory usage: 1.0+ MB\n"
     ]
    }
   ],
   "source": [
    "data.info()"
   ]
  },
  {
   "cell_type": "code",
   "execution_count": 12,
   "id": "5cf23e41",
   "metadata": {
    "execution": {
     "iopub.execute_input": "2022-03-29T20:06:59.173314Z",
     "iopub.status.busy": "2022-03-29T20:06:59.172673Z",
     "iopub.status.idle": "2022-03-29T20:06:59.180608Z",
     "shell.execute_reply": "2022-03-29T20:06:59.181161Z",
     "shell.execute_reply.started": "2022-03-29T19:56:52.251411Z"
    },
    "papermill": {
     "duration": 0.057195,
     "end_time": "2022-03-29T20:06:59.181332",
     "exception": false,
     "start_time": "2022-03-29T20:06:59.124137",
     "status": "completed"
    },
    "tags": []
   },
   "outputs": [
    {
     "data": {
      "text/plain": [
       "debt_consolidation    3957\n",
       "all_other             2331\n",
       "credit_card           1262\n",
       "home_improvement       629\n",
       "small_business         619\n",
       "major_purchase         437\n",
       "educational            343\n",
       "Name: purpose, dtype: int64"
      ]
     },
     "execution_count": 12,
     "metadata": {},
     "output_type": "execute_result"
    }
   ],
   "source": [
    "data[\"purpose\"].value_counts()"
   ]
  },
  {
   "cell_type": "markdown",
   "id": "0449fd0b",
   "metadata": {
    "papermill": {
     "duration": 0.043852,
     "end_time": "2022-03-29T20:06:59.269825",
     "exception": false,
     "start_time": "2022-03-29T20:06:59.225973",
     "status": "completed"
    },
    "tags": []
   },
   "source": [
    "Transform categorical values into numerical values"
   ]
  },
  {
   "cell_type": "code",
   "execution_count": 13,
   "id": "89dd370b",
   "metadata": {
    "execution": {
     "iopub.execute_input": "2022-03-29T20:06:59.366524Z",
     "iopub.status.busy": "2022-03-29T20:06:59.361156Z",
     "iopub.status.idle": "2022-03-29T20:06:59.387256Z",
     "shell.execute_reply": "2022-03-29T20:06:59.387774Z",
     "shell.execute_reply.started": "2022-03-29T19:56:52.367689Z"
    },
    "papermill": {
     "duration": 0.073538,
     "end_time": "2022-03-29T20:06:59.387941",
     "exception": false,
     "start_time": "2022-03-29T20:06:59.314403",
     "status": "completed"
    },
    "tags": []
   },
   "outputs": [
    {
     "data": {
      "text/html": [
       "<div>\n",
       "<style scoped>\n",
       "    .dataframe tbody tr th:only-of-type {\n",
       "        vertical-align: middle;\n",
       "    }\n",
       "\n",
       "    .dataframe tbody tr th {\n",
       "        vertical-align: top;\n",
       "    }\n",
       "\n",
       "    .dataframe thead th {\n",
       "        text-align: right;\n",
       "    }\n",
       "</style>\n",
       "<table border=\"1\" class=\"dataframe\">\n",
       "  <thead>\n",
       "    <tr style=\"text-align: right;\">\n",
       "      <th></th>\n",
       "      <th>credit.policy</th>\n",
       "      <th>int.rate</th>\n",
       "      <th>installment</th>\n",
       "      <th>log.annual.inc</th>\n",
       "      <th>dti</th>\n",
       "      <th>fico</th>\n",
       "      <th>days.with.cr.line</th>\n",
       "      <th>revol.bal</th>\n",
       "      <th>revol.util</th>\n",
       "      <th>inq.last.6mths</th>\n",
       "      <th>delinq.2yrs</th>\n",
       "      <th>pub.rec</th>\n",
       "      <th>not.fully.paid</th>\n",
       "      <th>purpose_all_other</th>\n",
       "      <th>purpose_credit_card</th>\n",
       "      <th>purpose_debt_consolidation</th>\n",
       "      <th>purpose_educational</th>\n",
       "      <th>purpose_home_improvement</th>\n",
       "      <th>purpose_major_purchase</th>\n",
       "      <th>purpose_small_business</th>\n",
       "    </tr>\n",
       "  </thead>\n",
       "  <tbody>\n",
       "    <tr>\n",
       "      <th>0</th>\n",
       "      <td>1</td>\n",
       "      <td>0.1189</td>\n",
       "      <td>829.10</td>\n",
       "      <td>11.350407</td>\n",
       "      <td>19.48</td>\n",
       "      <td>737</td>\n",
       "      <td>5639.958333</td>\n",
       "      <td>28854</td>\n",
       "      <td>52.1</td>\n",
       "      <td>0</td>\n",
       "      <td>0</td>\n",
       "      <td>0</td>\n",
       "      <td>0</td>\n",
       "      <td>0</td>\n",
       "      <td>0</td>\n",
       "      <td>1</td>\n",
       "      <td>0</td>\n",
       "      <td>0</td>\n",
       "      <td>0</td>\n",
       "      <td>0</td>\n",
       "    </tr>\n",
       "    <tr>\n",
       "      <th>1</th>\n",
       "      <td>1</td>\n",
       "      <td>0.1071</td>\n",
       "      <td>228.22</td>\n",
       "      <td>11.082143</td>\n",
       "      <td>14.29</td>\n",
       "      <td>707</td>\n",
       "      <td>2760.000000</td>\n",
       "      <td>33623</td>\n",
       "      <td>76.7</td>\n",
       "      <td>0</td>\n",
       "      <td>0</td>\n",
       "      <td>0</td>\n",
       "      <td>0</td>\n",
       "      <td>0</td>\n",
       "      <td>1</td>\n",
       "      <td>0</td>\n",
       "      <td>0</td>\n",
       "      <td>0</td>\n",
       "      <td>0</td>\n",
       "      <td>0</td>\n",
       "    </tr>\n",
       "    <tr>\n",
       "      <th>2</th>\n",
       "      <td>1</td>\n",
       "      <td>0.1357</td>\n",
       "      <td>366.86</td>\n",
       "      <td>10.373491</td>\n",
       "      <td>11.63</td>\n",
       "      <td>682</td>\n",
       "      <td>4710.000000</td>\n",
       "      <td>3511</td>\n",
       "      <td>25.6</td>\n",
       "      <td>1</td>\n",
       "      <td>0</td>\n",
       "      <td>0</td>\n",
       "      <td>0</td>\n",
       "      <td>0</td>\n",
       "      <td>0</td>\n",
       "      <td>1</td>\n",
       "      <td>0</td>\n",
       "      <td>0</td>\n",
       "      <td>0</td>\n",
       "      <td>0</td>\n",
       "    </tr>\n",
       "    <tr>\n",
       "      <th>3</th>\n",
       "      <td>1</td>\n",
       "      <td>0.1008</td>\n",
       "      <td>162.34</td>\n",
       "      <td>11.350407</td>\n",
       "      <td>8.10</td>\n",
       "      <td>712</td>\n",
       "      <td>2699.958333</td>\n",
       "      <td>33667</td>\n",
       "      <td>73.2</td>\n",
       "      <td>1</td>\n",
       "      <td>0</td>\n",
       "      <td>0</td>\n",
       "      <td>0</td>\n",
       "      <td>0</td>\n",
       "      <td>0</td>\n",
       "      <td>1</td>\n",
       "      <td>0</td>\n",
       "      <td>0</td>\n",
       "      <td>0</td>\n",
       "      <td>0</td>\n",
       "    </tr>\n",
       "    <tr>\n",
       "      <th>4</th>\n",
       "      <td>1</td>\n",
       "      <td>0.1426</td>\n",
       "      <td>102.92</td>\n",
       "      <td>11.299732</td>\n",
       "      <td>14.97</td>\n",
       "      <td>667</td>\n",
       "      <td>4066.000000</td>\n",
       "      <td>4740</td>\n",
       "      <td>39.5</td>\n",
       "      <td>0</td>\n",
       "      <td>1</td>\n",
       "      <td>0</td>\n",
       "      <td>0</td>\n",
       "      <td>0</td>\n",
       "      <td>1</td>\n",
       "      <td>0</td>\n",
       "      <td>0</td>\n",
       "      <td>0</td>\n",
       "      <td>0</td>\n",
       "      <td>0</td>\n",
       "    </tr>\n",
       "  </tbody>\n",
       "</table>\n",
       "</div>"
      ],
      "text/plain": [
       "   credit.policy  int.rate  installment  log.annual.inc    dti  fico  \\\n",
       "0              1    0.1189       829.10       11.350407  19.48   737   \n",
       "1              1    0.1071       228.22       11.082143  14.29   707   \n",
       "2              1    0.1357       366.86       10.373491  11.63   682   \n",
       "3              1    0.1008       162.34       11.350407   8.10   712   \n",
       "4              1    0.1426       102.92       11.299732  14.97   667   \n",
       "\n",
       "   days.with.cr.line  revol.bal  revol.util  inq.last.6mths  delinq.2yrs  \\\n",
       "0        5639.958333      28854        52.1               0            0   \n",
       "1        2760.000000      33623        76.7               0            0   \n",
       "2        4710.000000       3511        25.6               1            0   \n",
       "3        2699.958333      33667        73.2               1            0   \n",
       "4        4066.000000       4740        39.5               0            1   \n",
       "\n",
       "   pub.rec  not.fully.paid  purpose_all_other  purpose_credit_card  \\\n",
       "0        0               0                  0                    0   \n",
       "1        0               0                  0                    1   \n",
       "2        0               0                  0                    0   \n",
       "3        0               0                  0                    0   \n",
       "4        0               0                  0                    1   \n",
       "\n",
       "   purpose_debt_consolidation  purpose_educational  purpose_home_improvement  \\\n",
       "0                           1                    0                         0   \n",
       "1                           0                    0                         0   \n",
       "2                           1                    0                         0   \n",
       "3                           1                    0                         0   \n",
       "4                           0                    0                         0   \n",
       "\n",
       "   purpose_major_purchase  purpose_small_business  \n",
       "0                       0                       0  \n",
       "1                       0                       0  \n",
       "2                       0                       0  \n",
       "3                       0                       0  \n",
       "4                       0                       0  "
      ]
     },
     "execution_count": 13,
     "metadata": {},
     "output_type": "execute_result"
    }
   ],
   "source": [
    "data = pd.get_dummies(data, columns = [\"purpose\"])\n",
    "data.head()"
   ]
  },
  {
   "cell_type": "code",
   "execution_count": 14,
   "id": "fb3b20d7",
   "metadata": {
    "execution": {
     "iopub.execute_input": "2022-03-29T20:06:59.480307Z",
     "iopub.status.busy": "2022-03-29T20:06:59.479634Z",
     "iopub.status.idle": "2022-03-29T20:06:59.493814Z",
     "shell.execute_reply": "2022-03-29T20:06:59.494736Z",
     "shell.execute_reply.started": "2022-03-29T19:56:52.487611Z"
    },
    "papermill": {
     "duration": 0.062313,
     "end_time": "2022-03-29T20:06:59.494975",
     "exception": false,
     "start_time": "2022-03-29T20:06:59.432662",
     "status": "completed"
    },
    "tags": []
   },
   "outputs": [
    {
     "name": "stdout",
     "output_type": "stream",
     "text": [
      "<class 'pandas.core.frame.DataFrame'>\n",
      "RangeIndex: 9578 entries, 0 to 9577\n",
      "Data columns (total 20 columns):\n",
      " #   Column                      Non-Null Count  Dtype  \n",
      "---  ------                      --------------  -----  \n",
      " 0   credit.policy               9578 non-null   int64  \n",
      " 1   int.rate                    9578 non-null   float64\n",
      " 2   installment                 9578 non-null   float64\n",
      " 3   log.annual.inc              9578 non-null   float64\n",
      " 4   dti                         9578 non-null   float64\n",
      " 5   fico                        9578 non-null   int64  \n",
      " 6   days.with.cr.line           9578 non-null   float64\n",
      " 7   revol.bal                   9578 non-null   int64  \n",
      " 8   revol.util                  9578 non-null   float64\n",
      " 9   inq.last.6mths              9578 non-null   int64  \n",
      " 10  delinq.2yrs                 9578 non-null   int64  \n",
      " 11  pub.rec                     9578 non-null   int64  \n",
      " 12  not.fully.paid              9578 non-null   int64  \n",
      " 13  purpose_all_other           9578 non-null   uint8  \n",
      " 14  purpose_credit_card         9578 non-null   uint8  \n",
      " 15  purpose_debt_consolidation  9578 non-null   uint8  \n",
      " 16  purpose_educational         9578 non-null   uint8  \n",
      " 17  purpose_home_improvement    9578 non-null   uint8  \n",
      " 18  purpose_major_purchase      9578 non-null   uint8  \n",
      " 19  purpose_small_business      9578 non-null   uint8  \n",
      "dtypes: float64(6), int64(7), uint8(7)\n",
      "memory usage: 1.0 MB\n"
     ]
    }
   ],
   "source": [
    "data.info()"
   ]
  },
  {
   "cell_type": "markdown",
   "id": "1513a6f0",
   "metadata": {
    "papermill": {
     "duration": 0.044983,
     "end_time": "2022-03-29T20:06:59.586772",
     "exception": false,
     "start_time": "2022-03-29T20:06:59.541789",
     "status": "completed"
    },
    "tags": []
   },
   "source": [
    "**EDA**"
   ]
  },
  {
   "cell_type": "code",
   "execution_count": 15,
   "id": "f100acb4",
   "metadata": {
    "execution": {
     "iopub.execute_input": "2022-03-29T20:06:59.679855Z",
     "iopub.status.busy": "2022-03-29T20:06:59.679179Z",
     "iopub.status.idle": "2022-03-29T20:06:59.749573Z",
     "shell.execute_reply": "2022-03-29T20:06:59.748889Z",
     "shell.execute_reply.started": "2022-03-29T19:56:52.608839Z"
    },
    "papermill": {
     "duration": 0.117888,
     "end_time": "2022-03-29T20:06:59.749719",
     "exception": false,
     "start_time": "2022-03-29T20:06:59.631831",
     "status": "completed"
    },
    "tags": []
   },
   "outputs": [
    {
     "data": {
      "text/html": [
       "<div>\n",
       "<style scoped>\n",
       "    .dataframe tbody tr th:only-of-type {\n",
       "        vertical-align: middle;\n",
       "    }\n",
       "\n",
       "    .dataframe tbody tr th {\n",
       "        vertical-align: top;\n",
       "    }\n",
       "\n",
       "    .dataframe thead th {\n",
       "        text-align: right;\n",
       "    }\n",
       "</style>\n",
       "<table border=\"1\" class=\"dataframe\">\n",
       "  <thead>\n",
       "    <tr style=\"text-align: right;\">\n",
       "      <th></th>\n",
       "      <th>count</th>\n",
       "      <th>mean</th>\n",
       "      <th>std</th>\n",
       "      <th>min</th>\n",
       "      <th>25%</th>\n",
       "      <th>50%</th>\n",
       "      <th>75%</th>\n",
       "      <th>max</th>\n",
       "    </tr>\n",
       "  </thead>\n",
       "  <tbody>\n",
       "    <tr>\n",
       "      <th>credit.policy</th>\n",
       "      <td>9578.0</td>\n",
       "      <td>0.804970</td>\n",
       "      <td>0.396245</td>\n",
       "      <td>0.000000</td>\n",
       "      <td>1.000000</td>\n",
       "      <td>1.000000</td>\n",
       "      <td>1.000000</td>\n",
       "      <td>1.000000e+00</td>\n",
       "    </tr>\n",
       "    <tr>\n",
       "      <th>int.rate</th>\n",
       "      <td>9578.0</td>\n",
       "      <td>0.122640</td>\n",
       "      <td>0.026847</td>\n",
       "      <td>0.060000</td>\n",
       "      <td>0.103900</td>\n",
       "      <td>0.122100</td>\n",
       "      <td>0.140700</td>\n",
       "      <td>2.164000e-01</td>\n",
       "    </tr>\n",
       "    <tr>\n",
       "      <th>installment</th>\n",
       "      <td>9578.0</td>\n",
       "      <td>319.089413</td>\n",
       "      <td>207.071301</td>\n",
       "      <td>15.670000</td>\n",
       "      <td>163.770000</td>\n",
       "      <td>268.950000</td>\n",
       "      <td>432.762500</td>\n",
       "      <td>9.401400e+02</td>\n",
       "    </tr>\n",
       "    <tr>\n",
       "      <th>log.annual.inc</th>\n",
       "      <td>9578.0</td>\n",
       "      <td>10.932117</td>\n",
       "      <td>0.614813</td>\n",
       "      <td>7.547502</td>\n",
       "      <td>10.558414</td>\n",
       "      <td>10.928884</td>\n",
       "      <td>11.291293</td>\n",
       "      <td>1.452835e+01</td>\n",
       "    </tr>\n",
       "    <tr>\n",
       "      <th>dti</th>\n",
       "      <td>9578.0</td>\n",
       "      <td>12.606679</td>\n",
       "      <td>6.883970</td>\n",
       "      <td>0.000000</td>\n",
       "      <td>7.212500</td>\n",
       "      <td>12.665000</td>\n",
       "      <td>17.950000</td>\n",
       "      <td>2.996000e+01</td>\n",
       "    </tr>\n",
       "    <tr>\n",
       "      <th>fico</th>\n",
       "      <td>9578.0</td>\n",
       "      <td>710.846314</td>\n",
       "      <td>37.970537</td>\n",
       "      <td>612.000000</td>\n",
       "      <td>682.000000</td>\n",
       "      <td>707.000000</td>\n",
       "      <td>737.000000</td>\n",
       "      <td>8.270000e+02</td>\n",
       "    </tr>\n",
       "    <tr>\n",
       "      <th>days.with.cr.line</th>\n",
       "      <td>9578.0</td>\n",
       "      <td>4560.767197</td>\n",
       "      <td>2496.930377</td>\n",
       "      <td>178.958333</td>\n",
       "      <td>2820.000000</td>\n",
       "      <td>4139.958333</td>\n",
       "      <td>5730.000000</td>\n",
       "      <td>1.763996e+04</td>\n",
       "    </tr>\n",
       "    <tr>\n",
       "      <th>revol.bal</th>\n",
       "      <td>9578.0</td>\n",
       "      <td>16913.963876</td>\n",
       "      <td>33756.189557</td>\n",
       "      <td>0.000000</td>\n",
       "      <td>3187.000000</td>\n",
       "      <td>8596.000000</td>\n",
       "      <td>18249.500000</td>\n",
       "      <td>1.207359e+06</td>\n",
       "    </tr>\n",
       "    <tr>\n",
       "      <th>revol.util</th>\n",
       "      <td>9578.0</td>\n",
       "      <td>46.799236</td>\n",
       "      <td>29.014417</td>\n",
       "      <td>0.000000</td>\n",
       "      <td>22.600000</td>\n",
       "      <td>46.300000</td>\n",
       "      <td>70.900000</td>\n",
       "      <td>1.190000e+02</td>\n",
       "    </tr>\n",
       "    <tr>\n",
       "      <th>inq.last.6mths</th>\n",
       "      <td>9578.0</td>\n",
       "      <td>1.577469</td>\n",
       "      <td>2.200245</td>\n",
       "      <td>0.000000</td>\n",
       "      <td>0.000000</td>\n",
       "      <td>1.000000</td>\n",
       "      <td>2.000000</td>\n",
       "      <td>3.300000e+01</td>\n",
       "    </tr>\n",
       "    <tr>\n",
       "      <th>delinq.2yrs</th>\n",
       "      <td>9578.0</td>\n",
       "      <td>0.163708</td>\n",
       "      <td>0.546215</td>\n",
       "      <td>0.000000</td>\n",
       "      <td>0.000000</td>\n",
       "      <td>0.000000</td>\n",
       "      <td>0.000000</td>\n",
       "      <td>1.300000e+01</td>\n",
       "    </tr>\n",
       "    <tr>\n",
       "      <th>pub.rec</th>\n",
       "      <td>9578.0</td>\n",
       "      <td>0.062122</td>\n",
       "      <td>0.262126</td>\n",
       "      <td>0.000000</td>\n",
       "      <td>0.000000</td>\n",
       "      <td>0.000000</td>\n",
       "      <td>0.000000</td>\n",
       "      <td>5.000000e+00</td>\n",
       "    </tr>\n",
       "    <tr>\n",
       "      <th>not.fully.paid</th>\n",
       "      <td>9578.0</td>\n",
       "      <td>0.160054</td>\n",
       "      <td>0.366676</td>\n",
       "      <td>0.000000</td>\n",
       "      <td>0.000000</td>\n",
       "      <td>0.000000</td>\n",
       "      <td>0.000000</td>\n",
       "      <td>1.000000e+00</td>\n",
       "    </tr>\n",
       "    <tr>\n",
       "      <th>purpose_all_other</th>\n",
       "      <td>9578.0</td>\n",
       "      <td>0.243370</td>\n",
       "      <td>0.429139</td>\n",
       "      <td>0.000000</td>\n",
       "      <td>0.000000</td>\n",
       "      <td>0.000000</td>\n",
       "      <td>0.000000</td>\n",
       "      <td>1.000000e+00</td>\n",
       "    </tr>\n",
       "    <tr>\n",
       "      <th>purpose_credit_card</th>\n",
       "      <td>9578.0</td>\n",
       "      <td>0.131760</td>\n",
       "      <td>0.338248</td>\n",
       "      <td>0.000000</td>\n",
       "      <td>0.000000</td>\n",
       "      <td>0.000000</td>\n",
       "      <td>0.000000</td>\n",
       "      <td>1.000000e+00</td>\n",
       "    </tr>\n",
       "    <tr>\n",
       "      <th>purpose_debt_consolidation</th>\n",
       "      <td>9578.0</td>\n",
       "      <td>0.413134</td>\n",
       "      <td>0.492422</td>\n",
       "      <td>0.000000</td>\n",
       "      <td>0.000000</td>\n",
       "      <td>0.000000</td>\n",
       "      <td>1.000000</td>\n",
       "      <td>1.000000e+00</td>\n",
       "    </tr>\n",
       "    <tr>\n",
       "      <th>purpose_educational</th>\n",
       "      <td>9578.0</td>\n",
       "      <td>0.035811</td>\n",
       "      <td>0.185829</td>\n",
       "      <td>0.000000</td>\n",
       "      <td>0.000000</td>\n",
       "      <td>0.000000</td>\n",
       "      <td>0.000000</td>\n",
       "      <td>1.000000e+00</td>\n",
       "    </tr>\n",
       "    <tr>\n",
       "      <th>purpose_home_improvement</th>\n",
       "      <td>9578.0</td>\n",
       "      <td>0.065671</td>\n",
       "      <td>0.247720</td>\n",
       "      <td>0.000000</td>\n",
       "      <td>0.000000</td>\n",
       "      <td>0.000000</td>\n",
       "      <td>0.000000</td>\n",
       "      <td>1.000000e+00</td>\n",
       "    </tr>\n",
       "    <tr>\n",
       "      <th>purpose_major_purchase</th>\n",
       "      <td>9578.0</td>\n",
       "      <td>0.045625</td>\n",
       "      <td>0.208682</td>\n",
       "      <td>0.000000</td>\n",
       "      <td>0.000000</td>\n",
       "      <td>0.000000</td>\n",
       "      <td>0.000000</td>\n",
       "      <td>1.000000e+00</td>\n",
       "    </tr>\n",
       "    <tr>\n",
       "      <th>purpose_small_business</th>\n",
       "      <td>9578.0</td>\n",
       "      <td>0.064627</td>\n",
       "      <td>0.245880</td>\n",
       "      <td>0.000000</td>\n",
       "      <td>0.000000</td>\n",
       "      <td>0.000000</td>\n",
       "      <td>0.000000</td>\n",
       "      <td>1.000000e+00</td>\n",
       "    </tr>\n",
       "  </tbody>\n",
       "</table>\n",
       "</div>"
      ],
      "text/plain": [
       "                             count          mean           std         min  \\\n",
       "credit.policy               9578.0      0.804970      0.396245    0.000000   \n",
       "int.rate                    9578.0      0.122640      0.026847    0.060000   \n",
       "installment                 9578.0    319.089413    207.071301   15.670000   \n",
       "log.annual.inc              9578.0     10.932117      0.614813    7.547502   \n",
       "dti                         9578.0     12.606679      6.883970    0.000000   \n",
       "fico                        9578.0    710.846314     37.970537  612.000000   \n",
       "days.with.cr.line           9578.0   4560.767197   2496.930377  178.958333   \n",
       "revol.bal                   9578.0  16913.963876  33756.189557    0.000000   \n",
       "revol.util                  9578.0     46.799236     29.014417    0.000000   \n",
       "inq.last.6mths              9578.0      1.577469      2.200245    0.000000   \n",
       "delinq.2yrs                 9578.0      0.163708      0.546215    0.000000   \n",
       "pub.rec                     9578.0      0.062122      0.262126    0.000000   \n",
       "not.fully.paid              9578.0      0.160054      0.366676    0.000000   \n",
       "purpose_all_other           9578.0      0.243370      0.429139    0.000000   \n",
       "purpose_credit_card         9578.0      0.131760      0.338248    0.000000   \n",
       "purpose_debt_consolidation  9578.0      0.413134      0.492422    0.000000   \n",
       "purpose_educational         9578.0      0.035811      0.185829    0.000000   \n",
       "purpose_home_improvement    9578.0      0.065671      0.247720    0.000000   \n",
       "purpose_major_purchase      9578.0      0.045625      0.208682    0.000000   \n",
       "purpose_small_business      9578.0      0.064627      0.245880    0.000000   \n",
       "\n",
       "                                    25%          50%           75%  \\\n",
       "credit.policy                  1.000000     1.000000      1.000000   \n",
       "int.rate                       0.103900     0.122100      0.140700   \n",
       "installment                  163.770000   268.950000    432.762500   \n",
       "log.annual.inc                10.558414    10.928884     11.291293   \n",
       "dti                            7.212500    12.665000     17.950000   \n",
       "fico                         682.000000   707.000000    737.000000   \n",
       "days.with.cr.line           2820.000000  4139.958333   5730.000000   \n",
       "revol.bal                   3187.000000  8596.000000  18249.500000   \n",
       "revol.util                    22.600000    46.300000     70.900000   \n",
       "inq.last.6mths                 0.000000     1.000000      2.000000   \n",
       "delinq.2yrs                    0.000000     0.000000      0.000000   \n",
       "pub.rec                        0.000000     0.000000      0.000000   \n",
       "not.fully.paid                 0.000000     0.000000      0.000000   \n",
       "purpose_all_other              0.000000     0.000000      0.000000   \n",
       "purpose_credit_card            0.000000     0.000000      0.000000   \n",
       "purpose_debt_consolidation     0.000000     0.000000      1.000000   \n",
       "purpose_educational            0.000000     0.000000      0.000000   \n",
       "purpose_home_improvement       0.000000     0.000000      0.000000   \n",
       "purpose_major_purchase         0.000000     0.000000      0.000000   \n",
       "purpose_small_business         0.000000     0.000000      0.000000   \n",
       "\n",
       "                                     max  \n",
       "credit.policy               1.000000e+00  \n",
       "int.rate                    2.164000e-01  \n",
       "installment                 9.401400e+02  \n",
       "log.annual.inc              1.452835e+01  \n",
       "dti                         2.996000e+01  \n",
       "fico                        8.270000e+02  \n",
       "days.with.cr.line           1.763996e+04  \n",
       "revol.bal                   1.207359e+06  \n",
       "revol.util                  1.190000e+02  \n",
       "inq.last.6mths              3.300000e+01  \n",
       "delinq.2yrs                 1.300000e+01  \n",
       "pub.rec                     5.000000e+00  \n",
       "not.fully.paid              1.000000e+00  \n",
       "purpose_all_other           1.000000e+00  \n",
       "purpose_credit_card         1.000000e+00  \n",
       "purpose_debt_consolidation  1.000000e+00  \n",
       "purpose_educational         1.000000e+00  \n",
       "purpose_home_improvement    1.000000e+00  \n",
       "purpose_major_purchase      1.000000e+00  \n",
       "purpose_small_business      1.000000e+00  "
      ]
     },
     "execution_count": 15,
     "metadata": {},
     "output_type": "execute_result"
    }
   ],
   "source": [
    "data.describe().T"
   ]
  },
  {
   "cell_type": "code",
   "execution_count": 16,
   "id": "d12d2aeb",
   "metadata": {
    "execution": {
     "iopub.execute_input": "2022-03-29T20:06:59.846375Z",
     "iopub.status.busy": "2022-03-29T20:06:59.845749Z",
     "iopub.status.idle": "2022-03-29T20:06:59.894953Z",
     "shell.execute_reply": "2022-03-29T20:06:59.895479Z",
     "shell.execute_reply.started": "2022-03-29T19:56:52.71974Z"
    },
    "papermill": {
     "duration": 0.09832,
     "end_time": "2022-03-29T20:06:59.895661",
     "exception": false,
     "start_time": "2022-03-29T20:06:59.797341",
     "status": "completed"
    },
    "tags": []
   },
   "outputs": [
    {
     "data": {
      "text/html": [
       "<div>\n",
       "<style scoped>\n",
       "    .dataframe tbody tr th:only-of-type {\n",
       "        vertical-align: middle;\n",
       "    }\n",
       "\n",
       "    .dataframe tbody tr th {\n",
       "        vertical-align: top;\n",
       "    }\n",
       "\n",
       "    .dataframe thead th {\n",
       "        text-align: right;\n",
       "    }\n",
       "</style>\n",
       "<table border=\"1\" class=\"dataframe\">\n",
       "  <thead>\n",
       "    <tr style=\"text-align: right;\">\n",
       "      <th></th>\n",
       "      <th>credit.policy</th>\n",
       "      <th>int.rate</th>\n",
       "      <th>installment</th>\n",
       "      <th>log.annual.inc</th>\n",
       "      <th>dti</th>\n",
       "      <th>fico</th>\n",
       "      <th>days.with.cr.line</th>\n",
       "      <th>revol.bal</th>\n",
       "      <th>revol.util</th>\n",
       "      <th>inq.last.6mths</th>\n",
       "      <th>delinq.2yrs</th>\n",
       "      <th>pub.rec</th>\n",
       "      <th>not.fully.paid</th>\n",
       "      <th>purpose_all_other</th>\n",
       "      <th>purpose_credit_card</th>\n",
       "      <th>purpose_debt_consolidation</th>\n",
       "      <th>purpose_educational</th>\n",
       "      <th>purpose_home_improvement</th>\n",
       "      <th>purpose_major_purchase</th>\n",
       "      <th>purpose_small_business</th>\n",
       "    </tr>\n",
       "  </thead>\n",
       "  <tbody>\n",
       "    <tr>\n",
       "      <th>credit.policy</th>\n",
       "      <td>1.000000</td>\n",
       "      <td>-0.294089</td>\n",
       "      <td>0.058770</td>\n",
       "      <td>0.034906</td>\n",
       "      <td>-0.090901</td>\n",
       "      <td>0.348319</td>\n",
       "      <td>0.099026</td>\n",
       "      <td>-0.187518</td>\n",
       "      <td>-0.104095</td>\n",
       "      <td>-0.535511</td>\n",
       "      <td>-0.076318</td>\n",
       "      <td>-0.054243</td>\n",
       "      <td>-0.158119</td>\n",
       "      <td>-0.025412</td>\n",
       "      <td>0.003216</td>\n",
       "      <td>0.020193</td>\n",
       "      <td>-0.031346</td>\n",
       "      <td>0.006036</td>\n",
       "      <td>0.024281</td>\n",
       "      <td>-0.003511</td>\n",
       "    </tr>\n",
       "    <tr>\n",
       "      <th>int.rate</th>\n",
       "      <td>-0.294089</td>\n",
       "      <td>1.000000</td>\n",
       "      <td>0.276140</td>\n",
       "      <td>0.056383</td>\n",
       "      <td>0.220006</td>\n",
       "      <td>-0.714821</td>\n",
       "      <td>-0.124022</td>\n",
       "      <td>0.092527</td>\n",
       "      <td>0.464837</td>\n",
       "      <td>0.202780</td>\n",
       "      <td>0.156079</td>\n",
       "      <td>0.098162</td>\n",
       "      <td>0.159552</td>\n",
       "      <td>-0.124000</td>\n",
       "      <td>-0.042109</td>\n",
       "      <td>0.123607</td>\n",
       "      <td>-0.019618</td>\n",
       "      <td>-0.050697</td>\n",
       "      <td>-0.068978</td>\n",
       "      <td>0.151247</td>\n",
       "    </tr>\n",
       "    <tr>\n",
       "      <th>installment</th>\n",
       "      <td>0.058770</td>\n",
       "      <td>0.276140</td>\n",
       "      <td>1.000000</td>\n",
       "      <td>0.448102</td>\n",
       "      <td>0.050202</td>\n",
       "      <td>0.086039</td>\n",
       "      <td>0.183297</td>\n",
       "      <td>0.233625</td>\n",
       "      <td>0.081356</td>\n",
       "      <td>-0.010419</td>\n",
       "      <td>-0.004368</td>\n",
       "      <td>-0.032760</td>\n",
       "      <td>0.049955</td>\n",
       "      <td>-0.203103</td>\n",
       "      <td>0.000774</td>\n",
       "      <td>0.161658</td>\n",
       "      <td>-0.094510</td>\n",
       "      <td>0.023024</td>\n",
       "      <td>-0.079836</td>\n",
       "      <td>0.145654</td>\n",
       "    </tr>\n",
       "    <tr>\n",
       "      <th>log.annual.inc</th>\n",
       "      <td>0.034906</td>\n",
       "      <td>0.056383</td>\n",
       "      <td>0.448102</td>\n",
       "      <td>1.000000</td>\n",
       "      <td>-0.054065</td>\n",
       "      <td>0.114576</td>\n",
       "      <td>0.336896</td>\n",
       "      <td>0.372140</td>\n",
       "      <td>0.054881</td>\n",
       "      <td>0.029171</td>\n",
       "      <td>0.029203</td>\n",
       "      <td>0.016506</td>\n",
       "      <td>-0.033439</td>\n",
       "      <td>-0.080077</td>\n",
       "      <td>0.072942</td>\n",
       "      <td>-0.026214</td>\n",
       "      <td>-0.119799</td>\n",
       "      <td>0.116375</td>\n",
       "      <td>-0.031020</td>\n",
       "      <td>0.091540</td>\n",
       "    </tr>\n",
       "    <tr>\n",
       "      <th>dti</th>\n",
       "      <td>-0.090901</td>\n",
       "      <td>0.220006</td>\n",
       "      <td>0.050202</td>\n",
       "      <td>-0.054065</td>\n",
       "      <td>1.000000</td>\n",
       "      <td>-0.241191</td>\n",
       "      <td>0.060101</td>\n",
       "      <td>0.188748</td>\n",
       "      <td>0.337109</td>\n",
       "      <td>0.029189</td>\n",
       "      <td>-0.021792</td>\n",
       "      <td>0.006209</td>\n",
       "      <td>0.037362</td>\n",
       "      <td>-0.125825</td>\n",
       "      <td>0.084476</td>\n",
       "      <td>0.179149</td>\n",
       "      <td>-0.035325</td>\n",
       "      <td>-0.092788</td>\n",
       "      <td>-0.077719</td>\n",
       "      <td>-0.069245</td>\n",
       "    </tr>\n",
       "    <tr>\n",
       "      <th>fico</th>\n",
       "      <td>0.348319</td>\n",
       "      <td>-0.714821</td>\n",
       "      <td>0.086039</td>\n",
       "      <td>0.114576</td>\n",
       "      <td>-0.241191</td>\n",
       "      <td>1.000000</td>\n",
       "      <td>0.263880</td>\n",
       "      <td>-0.015553</td>\n",
       "      <td>-0.541289</td>\n",
       "      <td>-0.185293</td>\n",
       "      <td>-0.216340</td>\n",
       "      <td>-0.147592</td>\n",
       "      <td>-0.149666</td>\n",
       "      <td>0.067184</td>\n",
       "      <td>-0.012512</td>\n",
       "      <td>-0.154132</td>\n",
       "      <td>-0.013012</td>\n",
       "      <td>0.097474</td>\n",
       "      <td>0.067129</td>\n",
       "      <td>0.063292</td>\n",
       "    </tr>\n",
       "    <tr>\n",
       "      <th>days.with.cr.line</th>\n",
       "      <td>0.099026</td>\n",
       "      <td>-0.124022</td>\n",
       "      <td>0.183297</td>\n",
       "      <td>0.336896</td>\n",
       "      <td>0.060101</td>\n",
       "      <td>0.263880</td>\n",
       "      <td>1.000000</td>\n",
       "      <td>0.229344</td>\n",
       "      <td>-0.024239</td>\n",
       "      <td>-0.041736</td>\n",
       "      <td>0.081374</td>\n",
       "      <td>0.071826</td>\n",
       "      <td>-0.029237</td>\n",
       "      <td>-0.056574</td>\n",
       "      <td>0.046220</td>\n",
       "      <td>-0.009318</td>\n",
       "      <td>-0.042621</td>\n",
       "      <td>0.068087</td>\n",
       "      <td>-0.020561</td>\n",
       "      <td>0.034883</td>\n",
       "    </tr>\n",
       "    <tr>\n",
       "      <th>revol.bal</th>\n",
       "      <td>-0.187518</td>\n",
       "      <td>0.092527</td>\n",
       "      <td>0.233625</td>\n",
       "      <td>0.372140</td>\n",
       "      <td>0.188748</td>\n",
       "      <td>-0.015553</td>\n",
       "      <td>0.229344</td>\n",
       "      <td>1.000000</td>\n",
       "      <td>0.203779</td>\n",
       "      <td>0.022394</td>\n",
       "      <td>-0.033243</td>\n",
       "      <td>-0.031010</td>\n",
       "      <td>0.053699</td>\n",
       "      <td>-0.067728</td>\n",
       "      <td>0.072316</td>\n",
       "      <td>0.005785</td>\n",
       "      <td>-0.034743</td>\n",
       "      <td>0.003258</td>\n",
       "      <td>-0.062395</td>\n",
       "      <td>0.083069</td>\n",
       "    </tr>\n",
       "    <tr>\n",
       "      <th>revol.util</th>\n",
       "      <td>-0.104095</td>\n",
       "      <td>0.464837</td>\n",
       "      <td>0.081356</td>\n",
       "      <td>0.054881</td>\n",
       "      <td>0.337109</td>\n",
       "      <td>-0.541289</td>\n",
       "      <td>-0.024239</td>\n",
       "      <td>0.203779</td>\n",
       "      <td>1.000000</td>\n",
       "      <td>-0.013880</td>\n",
       "      <td>-0.042740</td>\n",
       "      <td>0.066717</td>\n",
       "      <td>0.082088</td>\n",
       "      <td>-0.138535</td>\n",
       "      <td>0.091321</td>\n",
       "      <td>0.211869</td>\n",
       "      <td>-0.053128</td>\n",
       "      <td>-0.114449</td>\n",
       "      <td>-0.108079</td>\n",
       "      <td>-0.060962</td>\n",
       "    </tr>\n",
       "    <tr>\n",
       "      <th>inq.last.6mths</th>\n",
       "      <td>-0.535511</td>\n",
       "      <td>0.202780</td>\n",
       "      <td>-0.010419</td>\n",
       "      <td>0.029171</td>\n",
       "      <td>0.029189</td>\n",
       "      <td>-0.185293</td>\n",
       "      <td>-0.041736</td>\n",
       "      <td>0.022394</td>\n",
       "      <td>-0.013880</td>\n",
       "      <td>1.000000</td>\n",
       "      <td>0.021245</td>\n",
       "      <td>0.072673</td>\n",
       "      <td>0.149452</td>\n",
       "      <td>0.017795</td>\n",
       "      <td>-0.033640</td>\n",
       "      <td>-0.044240</td>\n",
       "      <td>0.024243</td>\n",
       "      <td>0.043827</td>\n",
       "      <td>-0.001445</td>\n",
       "      <td>0.042567</td>\n",
       "    </tr>\n",
       "    <tr>\n",
       "      <th>delinq.2yrs</th>\n",
       "      <td>-0.076318</td>\n",
       "      <td>0.156079</td>\n",
       "      <td>-0.004368</td>\n",
       "      <td>0.029203</td>\n",
       "      <td>-0.021792</td>\n",
       "      <td>-0.216340</td>\n",
       "      <td>0.081374</td>\n",
       "      <td>-0.033243</td>\n",
       "      <td>-0.042740</td>\n",
       "      <td>0.021245</td>\n",
       "      <td>1.000000</td>\n",
       "      <td>0.009184</td>\n",
       "      <td>0.008881</td>\n",
       "      <td>0.016658</td>\n",
       "      <td>-0.008817</td>\n",
       "      <td>-0.000697</td>\n",
       "      <td>-0.002214</td>\n",
       "      <td>-0.013098</td>\n",
       "      <td>0.004085</td>\n",
       "      <td>-0.004148</td>\n",
       "    </tr>\n",
       "    <tr>\n",
       "      <th>pub.rec</th>\n",
       "      <td>-0.054243</td>\n",
       "      <td>0.098162</td>\n",
       "      <td>-0.032760</td>\n",
       "      <td>0.016506</td>\n",
       "      <td>0.006209</td>\n",
       "      <td>-0.147592</td>\n",
       "      <td>0.071826</td>\n",
       "      <td>-0.031010</td>\n",
       "      <td>0.066717</td>\n",
       "      <td>0.072673</td>\n",
       "      <td>0.009184</td>\n",
       "      <td>1.000000</td>\n",
       "      <td>0.048634</td>\n",
       "      <td>-0.030451</td>\n",
       "      <td>0.014842</td>\n",
       "      <td>0.026845</td>\n",
       "      <td>-0.013521</td>\n",
       "      <td>0.004704</td>\n",
       "      <td>-0.011734</td>\n",
       "      <td>-0.005595</td>\n",
       "    </tr>\n",
       "    <tr>\n",
       "      <th>not.fully.paid</th>\n",
       "      <td>-0.158119</td>\n",
       "      <td>0.159552</td>\n",
       "      <td>0.049955</td>\n",
       "      <td>-0.033439</td>\n",
       "      <td>0.037362</td>\n",
       "      <td>-0.149666</td>\n",
       "      <td>-0.029237</td>\n",
       "      <td>0.053699</td>\n",
       "      <td>0.082088</td>\n",
       "      <td>0.149452</td>\n",
       "      <td>0.008881</td>\n",
       "      <td>0.048634</td>\n",
       "      <td>1.000000</td>\n",
       "      <td>0.009233</td>\n",
       "      <td>-0.047136</td>\n",
       "      <td>-0.017543</td>\n",
       "      <td>0.021609</td>\n",
       "      <td>0.007272</td>\n",
       "      <td>-0.028580</td>\n",
       "      <td>0.084460</td>\n",
       "    </tr>\n",
       "    <tr>\n",
       "      <th>purpose_all_other</th>\n",
       "      <td>-0.025412</td>\n",
       "      <td>-0.124000</td>\n",
       "      <td>-0.203103</td>\n",
       "      <td>-0.080077</td>\n",
       "      <td>-0.125825</td>\n",
       "      <td>0.067184</td>\n",
       "      <td>-0.056574</td>\n",
       "      <td>-0.067728</td>\n",
       "      <td>-0.138535</td>\n",
       "      <td>0.017795</td>\n",
       "      <td>0.016658</td>\n",
       "      <td>-0.030451</td>\n",
       "      <td>0.009233</td>\n",
       "      <td>1.000000</td>\n",
       "      <td>-0.220935</td>\n",
       "      <td>-0.475848</td>\n",
       "      <td>-0.109300</td>\n",
       "      <td>-0.150359</td>\n",
       "      <td>-0.124004</td>\n",
       "      <td>-0.149076</td>\n",
       "    </tr>\n",
       "    <tr>\n",
       "      <th>purpose_credit_card</th>\n",
       "      <td>0.003216</td>\n",
       "      <td>-0.042109</td>\n",
       "      <td>0.000774</td>\n",
       "      <td>0.072942</td>\n",
       "      <td>0.084476</td>\n",
       "      <td>-0.012512</td>\n",
       "      <td>0.046220</td>\n",
       "      <td>0.072316</td>\n",
       "      <td>0.091321</td>\n",
       "      <td>-0.033640</td>\n",
       "      <td>-0.008817</td>\n",
       "      <td>0.014842</td>\n",
       "      <td>-0.047136</td>\n",
       "      <td>-0.220935</td>\n",
       "      <td>1.000000</td>\n",
       "      <td>-0.326850</td>\n",
       "      <td>-0.075076</td>\n",
       "      <td>-0.103279</td>\n",
       "      <td>-0.085176</td>\n",
       "      <td>-0.102397</td>\n",
       "    </tr>\n",
       "    <tr>\n",
       "      <th>purpose_debt_consolidation</th>\n",
       "      <td>0.020193</td>\n",
       "      <td>0.123607</td>\n",
       "      <td>0.161658</td>\n",
       "      <td>-0.026214</td>\n",
       "      <td>0.179149</td>\n",
       "      <td>-0.154132</td>\n",
       "      <td>-0.009318</td>\n",
       "      <td>0.005785</td>\n",
       "      <td>0.211869</td>\n",
       "      <td>-0.044240</td>\n",
       "      <td>-0.000697</td>\n",
       "      <td>0.026845</td>\n",
       "      <td>-0.017543</td>\n",
       "      <td>-0.475848</td>\n",
       "      <td>-0.326850</td>\n",
       "      <td>1.000000</td>\n",
       "      <td>-0.161698</td>\n",
       "      <td>-0.222441</td>\n",
       "      <td>-0.183451</td>\n",
       "      <td>-0.220542</td>\n",
       "    </tr>\n",
       "    <tr>\n",
       "      <th>purpose_educational</th>\n",
       "      <td>-0.031346</td>\n",
       "      <td>-0.019618</td>\n",
       "      <td>-0.094510</td>\n",
       "      <td>-0.119799</td>\n",
       "      <td>-0.035325</td>\n",
       "      <td>-0.013012</td>\n",
       "      <td>-0.042621</td>\n",
       "      <td>-0.034743</td>\n",
       "      <td>-0.053128</td>\n",
       "      <td>0.024243</td>\n",
       "      <td>-0.002214</td>\n",
       "      <td>-0.013521</td>\n",
       "      <td>0.021609</td>\n",
       "      <td>-0.109300</td>\n",
       "      <td>-0.075076</td>\n",
       "      <td>-0.161698</td>\n",
       "      <td>1.000000</td>\n",
       "      <td>-0.051094</td>\n",
       "      <td>-0.042138</td>\n",
       "      <td>-0.050658</td>\n",
       "    </tr>\n",
       "    <tr>\n",
       "      <th>purpose_home_improvement</th>\n",
       "      <td>0.006036</td>\n",
       "      <td>-0.050697</td>\n",
       "      <td>0.023024</td>\n",
       "      <td>0.116375</td>\n",
       "      <td>-0.092788</td>\n",
       "      <td>0.097474</td>\n",
       "      <td>0.068087</td>\n",
       "      <td>0.003258</td>\n",
       "      <td>-0.114449</td>\n",
       "      <td>0.043827</td>\n",
       "      <td>-0.013098</td>\n",
       "      <td>0.004704</td>\n",
       "      <td>0.007272</td>\n",
       "      <td>-0.150359</td>\n",
       "      <td>-0.103279</td>\n",
       "      <td>-0.222441</td>\n",
       "      <td>-0.051094</td>\n",
       "      <td>1.000000</td>\n",
       "      <td>-0.057967</td>\n",
       "      <td>-0.069687</td>\n",
       "    </tr>\n",
       "    <tr>\n",
       "      <th>purpose_major_purchase</th>\n",
       "      <td>0.024281</td>\n",
       "      <td>-0.068978</td>\n",
       "      <td>-0.079836</td>\n",
       "      <td>-0.031020</td>\n",
       "      <td>-0.077719</td>\n",
       "      <td>0.067129</td>\n",
       "      <td>-0.020561</td>\n",
       "      <td>-0.062395</td>\n",
       "      <td>-0.108079</td>\n",
       "      <td>-0.001445</td>\n",
       "      <td>0.004085</td>\n",
       "      <td>-0.011734</td>\n",
       "      <td>-0.028580</td>\n",
       "      <td>-0.124004</td>\n",
       "      <td>-0.085176</td>\n",
       "      <td>-0.183451</td>\n",
       "      <td>-0.042138</td>\n",
       "      <td>-0.057967</td>\n",
       "      <td>1.000000</td>\n",
       "      <td>-0.057472</td>\n",
       "    </tr>\n",
       "    <tr>\n",
       "      <th>purpose_small_business</th>\n",
       "      <td>-0.003511</td>\n",
       "      <td>0.151247</td>\n",
       "      <td>0.145654</td>\n",
       "      <td>0.091540</td>\n",
       "      <td>-0.069245</td>\n",
       "      <td>0.063292</td>\n",
       "      <td>0.034883</td>\n",
       "      <td>0.083069</td>\n",
       "      <td>-0.060962</td>\n",
       "      <td>0.042567</td>\n",
       "      <td>-0.004148</td>\n",
       "      <td>-0.005595</td>\n",
       "      <td>0.084460</td>\n",
       "      <td>-0.149076</td>\n",
       "      <td>-0.102397</td>\n",
       "      <td>-0.220542</td>\n",
       "      <td>-0.050658</td>\n",
       "      <td>-0.069687</td>\n",
       "      <td>-0.057472</td>\n",
       "      <td>1.000000</td>\n",
       "    </tr>\n",
       "  </tbody>\n",
       "</table>\n",
       "</div>"
      ],
      "text/plain": [
       "                            credit.policy  int.rate  installment  \\\n",
       "credit.policy                    1.000000 -0.294089     0.058770   \n",
       "int.rate                        -0.294089  1.000000     0.276140   \n",
       "installment                      0.058770  0.276140     1.000000   \n",
       "log.annual.inc                   0.034906  0.056383     0.448102   \n",
       "dti                             -0.090901  0.220006     0.050202   \n",
       "fico                             0.348319 -0.714821     0.086039   \n",
       "days.with.cr.line                0.099026 -0.124022     0.183297   \n",
       "revol.bal                       -0.187518  0.092527     0.233625   \n",
       "revol.util                      -0.104095  0.464837     0.081356   \n",
       "inq.last.6mths                  -0.535511  0.202780    -0.010419   \n",
       "delinq.2yrs                     -0.076318  0.156079    -0.004368   \n",
       "pub.rec                         -0.054243  0.098162    -0.032760   \n",
       "not.fully.paid                  -0.158119  0.159552     0.049955   \n",
       "purpose_all_other               -0.025412 -0.124000    -0.203103   \n",
       "purpose_credit_card              0.003216 -0.042109     0.000774   \n",
       "purpose_debt_consolidation       0.020193  0.123607     0.161658   \n",
       "purpose_educational             -0.031346 -0.019618    -0.094510   \n",
       "purpose_home_improvement         0.006036 -0.050697     0.023024   \n",
       "purpose_major_purchase           0.024281 -0.068978    -0.079836   \n",
       "purpose_small_business          -0.003511  0.151247     0.145654   \n",
       "\n",
       "                            log.annual.inc       dti      fico  \\\n",
       "credit.policy                     0.034906 -0.090901  0.348319   \n",
       "int.rate                          0.056383  0.220006 -0.714821   \n",
       "installment                       0.448102  0.050202  0.086039   \n",
       "log.annual.inc                    1.000000 -0.054065  0.114576   \n",
       "dti                              -0.054065  1.000000 -0.241191   \n",
       "fico                              0.114576 -0.241191  1.000000   \n",
       "days.with.cr.line                 0.336896  0.060101  0.263880   \n",
       "revol.bal                         0.372140  0.188748 -0.015553   \n",
       "revol.util                        0.054881  0.337109 -0.541289   \n",
       "inq.last.6mths                    0.029171  0.029189 -0.185293   \n",
       "delinq.2yrs                       0.029203 -0.021792 -0.216340   \n",
       "pub.rec                           0.016506  0.006209 -0.147592   \n",
       "not.fully.paid                   -0.033439  0.037362 -0.149666   \n",
       "purpose_all_other                -0.080077 -0.125825  0.067184   \n",
       "purpose_credit_card               0.072942  0.084476 -0.012512   \n",
       "purpose_debt_consolidation       -0.026214  0.179149 -0.154132   \n",
       "purpose_educational              -0.119799 -0.035325 -0.013012   \n",
       "purpose_home_improvement          0.116375 -0.092788  0.097474   \n",
       "purpose_major_purchase           -0.031020 -0.077719  0.067129   \n",
       "purpose_small_business            0.091540 -0.069245  0.063292   \n",
       "\n",
       "                            days.with.cr.line  revol.bal  revol.util  \\\n",
       "credit.policy                        0.099026  -0.187518   -0.104095   \n",
       "int.rate                            -0.124022   0.092527    0.464837   \n",
       "installment                          0.183297   0.233625    0.081356   \n",
       "log.annual.inc                       0.336896   0.372140    0.054881   \n",
       "dti                                  0.060101   0.188748    0.337109   \n",
       "fico                                 0.263880  -0.015553   -0.541289   \n",
       "days.with.cr.line                    1.000000   0.229344   -0.024239   \n",
       "revol.bal                            0.229344   1.000000    0.203779   \n",
       "revol.util                          -0.024239   0.203779    1.000000   \n",
       "inq.last.6mths                      -0.041736   0.022394   -0.013880   \n",
       "delinq.2yrs                          0.081374  -0.033243   -0.042740   \n",
       "pub.rec                              0.071826  -0.031010    0.066717   \n",
       "not.fully.paid                      -0.029237   0.053699    0.082088   \n",
       "purpose_all_other                   -0.056574  -0.067728   -0.138535   \n",
       "purpose_credit_card                  0.046220   0.072316    0.091321   \n",
       "purpose_debt_consolidation          -0.009318   0.005785    0.211869   \n",
       "purpose_educational                 -0.042621  -0.034743   -0.053128   \n",
       "purpose_home_improvement             0.068087   0.003258   -0.114449   \n",
       "purpose_major_purchase              -0.020561  -0.062395   -0.108079   \n",
       "purpose_small_business               0.034883   0.083069   -0.060962   \n",
       "\n",
       "                            inq.last.6mths  delinq.2yrs   pub.rec  \\\n",
       "credit.policy                    -0.535511    -0.076318 -0.054243   \n",
       "int.rate                          0.202780     0.156079  0.098162   \n",
       "installment                      -0.010419    -0.004368 -0.032760   \n",
       "log.annual.inc                    0.029171     0.029203  0.016506   \n",
       "dti                               0.029189    -0.021792  0.006209   \n",
       "fico                             -0.185293    -0.216340 -0.147592   \n",
       "days.with.cr.line                -0.041736     0.081374  0.071826   \n",
       "revol.bal                         0.022394    -0.033243 -0.031010   \n",
       "revol.util                       -0.013880    -0.042740  0.066717   \n",
       "inq.last.6mths                    1.000000     0.021245  0.072673   \n",
       "delinq.2yrs                       0.021245     1.000000  0.009184   \n",
       "pub.rec                           0.072673     0.009184  1.000000   \n",
       "not.fully.paid                    0.149452     0.008881  0.048634   \n",
       "purpose_all_other                 0.017795     0.016658 -0.030451   \n",
       "purpose_credit_card              -0.033640    -0.008817  0.014842   \n",
       "purpose_debt_consolidation       -0.044240    -0.000697  0.026845   \n",
       "purpose_educational               0.024243    -0.002214 -0.013521   \n",
       "purpose_home_improvement          0.043827    -0.013098  0.004704   \n",
       "purpose_major_purchase           -0.001445     0.004085 -0.011734   \n",
       "purpose_small_business            0.042567    -0.004148 -0.005595   \n",
       "\n",
       "                            not.fully.paid  purpose_all_other  \\\n",
       "credit.policy                    -0.158119          -0.025412   \n",
       "int.rate                          0.159552          -0.124000   \n",
       "installment                       0.049955          -0.203103   \n",
       "log.annual.inc                   -0.033439          -0.080077   \n",
       "dti                               0.037362          -0.125825   \n",
       "fico                             -0.149666           0.067184   \n",
       "days.with.cr.line                -0.029237          -0.056574   \n",
       "revol.bal                         0.053699          -0.067728   \n",
       "revol.util                        0.082088          -0.138535   \n",
       "inq.last.6mths                    0.149452           0.017795   \n",
       "delinq.2yrs                       0.008881           0.016658   \n",
       "pub.rec                           0.048634          -0.030451   \n",
       "not.fully.paid                    1.000000           0.009233   \n",
       "purpose_all_other                 0.009233           1.000000   \n",
       "purpose_credit_card              -0.047136          -0.220935   \n",
       "purpose_debt_consolidation       -0.017543          -0.475848   \n",
       "purpose_educational               0.021609          -0.109300   \n",
       "purpose_home_improvement          0.007272          -0.150359   \n",
       "purpose_major_purchase           -0.028580          -0.124004   \n",
       "purpose_small_business            0.084460          -0.149076   \n",
       "\n",
       "                            purpose_credit_card  purpose_debt_consolidation  \\\n",
       "credit.policy                          0.003216                    0.020193   \n",
       "int.rate                              -0.042109                    0.123607   \n",
       "installment                            0.000774                    0.161658   \n",
       "log.annual.inc                         0.072942                   -0.026214   \n",
       "dti                                    0.084476                    0.179149   \n",
       "fico                                  -0.012512                   -0.154132   \n",
       "days.with.cr.line                      0.046220                   -0.009318   \n",
       "revol.bal                              0.072316                    0.005785   \n",
       "revol.util                             0.091321                    0.211869   \n",
       "inq.last.6mths                        -0.033640                   -0.044240   \n",
       "delinq.2yrs                           -0.008817                   -0.000697   \n",
       "pub.rec                                0.014842                    0.026845   \n",
       "not.fully.paid                        -0.047136                   -0.017543   \n",
       "purpose_all_other                     -0.220935                   -0.475848   \n",
       "purpose_credit_card                    1.000000                   -0.326850   \n",
       "purpose_debt_consolidation            -0.326850                    1.000000   \n",
       "purpose_educational                   -0.075076                   -0.161698   \n",
       "purpose_home_improvement              -0.103279                   -0.222441   \n",
       "purpose_major_purchase                -0.085176                   -0.183451   \n",
       "purpose_small_business                -0.102397                   -0.220542   \n",
       "\n",
       "                            purpose_educational  purpose_home_improvement  \\\n",
       "credit.policy                         -0.031346                  0.006036   \n",
       "int.rate                              -0.019618                 -0.050697   \n",
       "installment                           -0.094510                  0.023024   \n",
       "log.annual.inc                        -0.119799                  0.116375   \n",
       "dti                                   -0.035325                 -0.092788   \n",
       "fico                                  -0.013012                  0.097474   \n",
       "days.with.cr.line                     -0.042621                  0.068087   \n",
       "revol.bal                             -0.034743                  0.003258   \n",
       "revol.util                            -0.053128                 -0.114449   \n",
       "inq.last.6mths                         0.024243                  0.043827   \n",
       "delinq.2yrs                           -0.002214                 -0.013098   \n",
       "pub.rec                               -0.013521                  0.004704   \n",
       "not.fully.paid                         0.021609                  0.007272   \n",
       "purpose_all_other                     -0.109300                 -0.150359   \n",
       "purpose_credit_card                   -0.075076                 -0.103279   \n",
       "purpose_debt_consolidation            -0.161698                 -0.222441   \n",
       "purpose_educational                    1.000000                 -0.051094   \n",
       "purpose_home_improvement              -0.051094                  1.000000   \n",
       "purpose_major_purchase                -0.042138                 -0.057967   \n",
       "purpose_small_business                -0.050658                 -0.069687   \n",
       "\n",
       "                            purpose_major_purchase  purpose_small_business  \n",
       "credit.policy                             0.024281               -0.003511  \n",
       "int.rate                                 -0.068978                0.151247  \n",
       "installment                              -0.079836                0.145654  \n",
       "log.annual.inc                           -0.031020                0.091540  \n",
       "dti                                      -0.077719               -0.069245  \n",
       "fico                                      0.067129                0.063292  \n",
       "days.with.cr.line                        -0.020561                0.034883  \n",
       "revol.bal                                -0.062395                0.083069  \n",
       "revol.util                               -0.108079               -0.060962  \n",
       "inq.last.6mths                           -0.001445                0.042567  \n",
       "delinq.2yrs                               0.004085               -0.004148  \n",
       "pub.rec                                  -0.011734               -0.005595  \n",
       "not.fully.paid                           -0.028580                0.084460  \n",
       "purpose_all_other                        -0.124004               -0.149076  \n",
       "purpose_credit_card                      -0.085176               -0.102397  \n",
       "purpose_debt_consolidation               -0.183451               -0.220542  \n",
       "purpose_educational                      -0.042138               -0.050658  \n",
       "purpose_home_improvement                 -0.057967               -0.069687  \n",
       "purpose_major_purchase                    1.000000               -0.057472  \n",
       "purpose_small_business                   -0.057472                1.000000  "
      ]
     },
     "execution_count": 16,
     "metadata": {},
     "output_type": "execute_result"
    }
   ],
   "source": [
    "data.corr()"
   ]
  },
  {
   "cell_type": "markdown",
   "id": "167958b3",
   "metadata": {
    "papermill": {
     "duration": 0.048121,
     "end_time": "2022-03-29T20:06:59.991678",
     "exception": false,
     "start_time": "2022-03-29T20:06:59.943557",
     "status": "completed"
    },
    "tags": []
   },
   "source": [
    "**Corelation Heatmap before splitting**"
   ]
  },
  {
   "cell_type": "code",
   "execution_count": 17,
   "id": "5144267a",
   "metadata": {
    "execution": {
     "iopub.execute_input": "2022-03-29T20:07:00.093412Z",
     "iopub.status.busy": "2022-03-29T20:07:00.092490Z",
     "iopub.status.idle": "2022-03-29T20:07:02.081592Z",
     "shell.execute_reply": "2022-03-29T20:07:02.082106Z",
     "shell.execute_reply.started": "2022-03-29T19:56:52.840333Z"
    },
    "papermill": {
     "duration": 2.042858,
     "end_time": "2022-03-29T20:07:02.082273",
     "exception": false,
     "start_time": "2022-03-29T20:07:00.039415",
     "status": "completed"
    },
    "tags": []
   },
   "outputs": [
    {
     "data": {
      "image/png": "[encoded data removed]",
      "text/plain": [
       "<Figure size 1080x864 with 2 Axes>"
      ]
     },
     "metadata": {
      "needs_background": "light"
     },
     "output_type": "display_data"
    }
   ],
   "source": [
    "plt.figure(figsize = (15,12))\n",
    "sns.heatmap(data = data.corr(), annot = True, color='green', fmt = '.2f', linewidths = 0.5, cmap = \"YlGnBu\")\n",
    "plt.show()"
   ]
  },
  {
   "cell_type": "markdown",
   "id": "dff8b720",
   "metadata": {
    "papermill": {
     "duration": 0.054005,
     "end_time": "2022-03-29T20:07:02.190445",
     "exception": false,
     "start_time": "2022-03-29T20:07:02.136440",
     "status": "completed"
    },
    "tags": []
   },
   "source": [
    "**Splitting data**"
   ]
  },
  {
   "cell_type": "code",
   "execution_count": 18,
   "id": "1d7106c2",
   "metadata": {
    "execution": {
     "iopub.execute_input": "2022-03-29T20:07:02.302504Z",
     "iopub.status.busy": "2022-03-29T20:07:02.301833Z",
     "iopub.status.idle": "2022-03-29T20:07:02.506971Z",
     "shell.execute_reply": "2022-03-29T20:07:02.506233Z",
     "shell.execute_reply.started": "2022-03-29T19:56:54.693809Z"
    },
    "papermill": {
     "duration": 0.262067,
     "end_time": "2022-03-29T20:07:02.507111",
     "exception": false,
     "start_time": "2022-03-29T20:07:02.245044",
     "status": "completed"
    },
    "tags": []
   },
   "outputs": [],
   "source": [
    "X = data.drop(\"not.fully.paid\", axis = 1)\n",
    "y = data[\"not.fully.paid\"]\n",
    "from sklearn.model_selection import train_test_split\n",
    "X_train, X_test, y_train, y_test = train_test_split(X, y, test_size =\n",
    "0.3, random_state = 4)"
   ]
  },
  {
   "cell_type": "markdown",
   "id": "991a7056",
   "metadata": {
    "papermill": {
     "duration": 0.054219,
     "end_time": "2022-03-29T20:07:02.615688",
     "exception": false,
     "start_time": "2022-03-29T20:07:02.561469",
     "status": "completed"
    },
    "tags": []
   },
   "source": [
    "**Corelation Heatmap after data split**"
   ]
  },
  {
   "cell_type": "code",
   "execution_count": 19,
   "id": "828ef2f4",
   "metadata": {
    "execution": {
     "iopub.execute_input": "2022-03-29T20:07:02.747904Z",
     "iopub.status.busy": "2022-03-29T20:07:02.747166Z",
     "iopub.status.idle": "2022-03-29T20:07:04.671202Z",
     "shell.execute_reply": "2022-03-29T20:07:04.670574Z",
     "shell.execute_reply.started": "2022-03-29T19:56:54.708236Z"
    },
    "papermill": {
     "duration": 1.992946,
     "end_time": "2022-03-29T20:07:04.671397",
     "exception": false,
     "start_time": "2022-03-29T20:07:02.678451",
     "status": "completed"
    },
    "tags": []
   },
   "outputs": [
    {
     "data": {
      "image/png": "[encoded data removed]",
      "text/plain": [
       "<Figure size 864x720 with 2 Axes>"
      ]
     },
     "metadata": {
      "needs_background": "light"
     },
     "output_type": "display_data"
    }
   ],
   "source": [
    "plt.figure(figsize = (12,10))\n",
    "sns.heatmap(data = X_train.corr(), annot = True, cmap = \"YlGnBu\")\n",
    "plt.show()\n"
   ]
  },
  {
   "cell_type": "markdown",
   "id": "b96506e9",
   "metadata": {
    "papermill": {
     "duration": 0.059753,
     "end_time": "2022-03-29T20:07:04.791064",
     "exception": false,
     "start_time": "2022-03-29T20:07:04.731311",
     "status": "completed"
    },
    "tags": []
   },
   "source": [
    "from the correlation heatmaps we can observe that no two features have positive corelation of\n",
    "more than 0.7 , so we will not remove any feature."
   ]
  },
  {
   "cell_type": "markdown",
   "id": "f3efcf93",
   "metadata": {
    "papermill": {
     "duration": 0.060029,
     "end_time": "2022-03-29T20:07:04.911104",
     "exception": false,
     "start_time": "2022-03-29T20:07:04.851075",
     "status": "completed"
    },
    "tags": []
   },
   "source": [
    "**Feature Scaling**"
   ]
  },
  {
   "cell_type": "code",
   "execution_count": 20,
   "id": "937a5eb0",
   "metadata": {
    "execution": {
     "iopub.execute_input": "2022-03-29T20:07:05.042105Z",
     "iopub.status.busy": "2022-03-29T20:07:05.040867Z",
     "iopub.status.idle": "2022-03-29T20:07:05.052413Z",
     "shell.execute_reply": "2022-03-29T20:07:05.051850Z",
     "shell.execute_reply.started": "2022-03-29T19:56:56.382074Z"
    },
    "papermill": {
     "duration": 0.081033,
     "end_time": "2022-03-29T20:07:05.052561",
     "exception": false,
     "start_time": "2022-03-29T20:07:04.971528",
     "status": "completed"
    },
    "tags": []
   },
   "outputs": [
    {
     "name": "stdout",
     "output_type": "stream",
     "text": [
      "(6704, 19) (2874, 19)\n"
     ]
    }
   ],
   "source": [
    "from sklearn.preprocessing import StandardScaler\n",
    "sc = StandardScaler()\n",
    "X_train = sc.fit_transform(X_train)\n",
    "X_test = sc.transform(X_test)\n",
    "print(X_train.shape , X_test.shape)"
   ]
  },
  {
   "cell_type": "markdown",
   "id": "9e2b5a32",
   "metadata": {
    "papermill": {
     "duration": 0.060157,
     "end_time": "2022-03-29T20:07:05.173143",
     "exception": false,
     "start_time": "2022-03-29T20:07:05.112986",
     "status": "completed"
    },
    "tags": []
   },
   "source": [
    "**Building Deep Learning Model and Defining Model architecture**"
   ]
  },
  {
   "cell_type": "code",
   "execution_count": 21,
   "id": "7364df2b",
   "metadata": {},
   "outputs": [],
   "source": [
    "import tensorflow as tf\n",
    "from tensorflow.keras.models import Sequential\n",
    "from tensorflow.keras.layers import Dense, BatchNormalization, Dropout\n",
    "from tensorflow.keras.optimizers import Adam\n",
    "from tensorflow.keras.callbacks import EarlyStopping"
   ]
  },
  {
   "cell_type": "code",
   "execution_count": 22,
   "id": "ff1245e4",
   "metadata": {
    "execution": {
     "iopub.execute_input": "2022-03-29T20:07:11.196787Z",
     "iopub.status.busy": "2022-03-29T20:07:11.195764Z",
     "iopub.status.idle": "2022-03-29T20:07:11.378065Z",
     "shell.execute_reply": "2022-03-29T20:07:11.377417Z",
     "shell.execute_reply.started": "2022-03-29T19:56:56.404941Z"
    },
    "papermill": {
     "duration": 0.250156,
     "end_time": "2022-03-29T20:07:11.378208",
     "exception": false,
     "start_time": "2022-03-29T20:07:11.128052",
     "status": "completed"
    },
    "tags": []
   },
   "outputs": [],
   "source": [
    "model = Sequential()\n",
    "\n",
    "model.add(Dense(units = 128, activation = 'relu', input_shape = (X_train.shape[1],)))\n",
    "model.add(BatchNormalization())\n",
    "model.add(Dropout(0.2, seed = 123))\n",
    "\n",
    "model.add(Dense(units = 64, activation = 'tanh'))\n",
    "model.add(BatchNormalization())\n",
    "model.add(Dropout(0.2, seed = 123))\n",
    "\n",
    "model.add(Dense(units = 32, activation = 'relu'))          \n",
    "model.add(BatchNormalization())\n",
    "model.add(Dropout(0.2, seed = 123))\n",
    "\n",
    "model.add(Dense(units = 1, activation = 'sigmoid'))"
   ]
  },
  {
   "cell_type": "code",
   "execution_count": 23,
   "id": "1f8db844",
   "metadata": {
    "execution": {
     "iopub.execute_input": "2022-03-29T20:07:11.503402Z",
     "iopub.status.busy": "2022-03-29T20:07:11.502733Z",
     "iopub.status.idle": "2022-03-29T20:07:11.506073Z",
     "shell.execute_reply": "2022-03-29T20:07:11.506603Z",
     "shell.execute_reply.started": "2022-03-29T19:56:56.49767Z"
    },
    "papermill": {
     "duration": 0.067546,
     "end_time": "2022-03-29T20:07:11.506775",
     "exception": false,
     "start_time": "2022-03-29T20:07:11.439229",
     "status": "completed"
    },
    "tags": []
   },
   "outputs": [],
   "source": [
    "es = EarlyStopping(monitor = \"accuracy\", patience = 4)"
   ]
  },
  {
   "cell_type": "code",
   "execution_count": 24,
   "id": "309a335b",
   "metadata": {
    "execution": {
     "iopub.execute_input": "2022-03-29T20:07:11.632938Z",
     "iopub.status.busy": "2022-03-29T20:07:11.632206Z",
     "iopub.status.idle": "2022-03-29T20:07:11.645630Z",
     "shell.execute_reply": "2022-03-29T20:07:11.646102Z",
     "shell.execute_reply.started": "2022-03-29T19:56:56.504247Z"
    },
    "papermill": {
     "duration": 0.077772,
     "end_time": "2022-03-29T20:07:11.646279",
     "exception": false,
     "start_time": "2022-03-29T20:07:11.568507",
     "status": "completed"
    },
    "tags": []
   },
   "outputs": [],
   "source": [
    "model.compile(optimizer = Adam(learning_rate = 0.01),\n",
    " loss = 'binary_crossentropy',\n",
    " metrics = ['accuracy'])"
   ]
  },
  {
   "cell_type": "code",
   "execution_count": 25,
   "id": "d0552e02",
   "metadata": {
    "execution": {
     "iopub.execute_input": "2022-03-29T20:07:11.772508Z",
     "iopub.status.busy": "2022-03-29T20:07:11.771801Z",
     "iopub.status.idle": "2022-03-29T20:07:11.780376Z",
     "shell.execute_reply": "2022-03-29T20:07:11.780913Z",
     "shell.execute_reply.started": "2022-03-29T19:56:56.52132Z"
    },
    "papermill": {
     "duration": 0.074195,
     "end_time": "2022-03-29T20:07:11.781081",
     "exception": false,
     "start_time": "2022-03-29T20:07:11.706886",
     "status": "completed"
    },
    "tags": []
   },
   "outputs": [
    {
     "name": "stdout",
     "output_type": "stream",
     "text": [
      "Model: \"sequential_1\"\n",
      "_________________________________________________________________\n",
      " Layer (type)                Output Shape              Param #   \n",
      "=================================================================\n",
      " dense (Dense)               (None, 128)               2560      \n",
      "                                                                 \n",
      " batch_normalization (BatchN  (None, 128)              512       \n",
      " ormalization)                                                   \n",
      "                                                                 \n",
      " dropout (Dropout)           (None, 128)               0         \n",
      "                                                                 \n",
      " dense_1 (Dense)             (None, 64)                8256      \n",
      "                                                                 \n",
      " batch_normalization_1 (Batc  (None, 64)               256       \n",
      " hNormalization)                                                 \n",
      "                                                                 \n",
      " dropout_1 (Dropout)         (None, 64)                0         \n",
      "                                                                 \n",
      " dense_2 (Dense)             (None, 32)                2080      \n",
      "                                                                 \n",
      " batch_normalization_2 (Batc  (None, 32)               128       \n",
      " hNormalization)                                                 \n",
      "                                                                 \n",
      " dropout_2 (Dropout)         (None, 32)                0         \n",
      "                                                                 \n",
      " dense_3 (Dense)             (None, 1)                 33        \n",
      "                                                                 \n",
      "=================================================================\n",
      "Total params: 13,825\n",
      "Trainable params: 13,377\n",
      "Non-trainable params: 448\n",
      "_________________________________________________________________\n"
     ]
    }
   ],
   "source": [
    "model.summary()"
   ]
  },
  {
   "cell_type": "markdown",
   "id": "95fbbe9e",
   "metadata": {
    "papermill": {
     "duration": 0.069979,
     "end_time": "2022-03-29T20:07:11.913273",
     "exception": false,
     "start_time": "2022-03-29T20:07:11.843294",
     "status": "completed"
    },
    "tags": []
   },
   "source": [
    "**Model Training**"
   ]
  },
  {
   "cell_type": "code",
   "execution_count": 26,
   "id": "ef2fa1a0",
   "metadata": {
    "execution": {
     "iopub.execute_input": "2022-03-29T20:07:12.044752Z",
     "iopub.status.busy": "2022-03-29T20:07:12.044059Z",
     "iopub.status.idle": "2022-03-29T20:07:20.283968Z",
     "shell.execute_reply": "2022-03-29T20:07:20.284917Z",
     "shell.execute_reply.started": "2022-03-29T19:56:56.538285Z"
    },
    "papermill": {
     "duration": 8.305806,
     "end_time": "2022-03-29T20:07:20.285161",
     "exception": false,
     "start_time": "2022-03-29T20:07:11.979355",
     "status": "completed"
    },
    "tags": []
   },
   "outputs": [
    {
     "name": "stdout",
     "output_type": "stream",
     "text": [
      "Epoch 1/100\n",
      "210/210 [==============================] - 4s 8ms/step - loss: 0.4683 - accuracy: 0.8150 - val_loss: 0.4007 - val_accuracy: 0.8497\n",
      "Epoch 2/100\n",
      "210/210 [==============================] - 2s 8ms/step - loss: 0.4287 - accuracy: 0.8349 - val_loss: 0.4039 - val_accuracy: 0.8497\n",
      "Epoch 3/100\n",
      "210/210 [==============================] - 2s 7ms/step - loss: 0.4232 - accuracy: 0.8352 - val_loss: 0.4062 - val_accuracy: 0.8476\n",
      "Epoch 4/100\n",
      "210/210 [==============================] - 1s 6ms/step - loss: 0.4217 - accuracy: 0.8353 - val_loss: 0.4010 - val_accuracy: 0.8497\n",
      "Epoch 5/100\n",
      "210/210 [==============================] - 1s 6ms/step - loss: 0.4182 - accuracy: 0.8352 - val_loss: 0.4032 - val_accuracy: 0.8497\n",
      "Epoch 6/100\n",
      "210/210 [==============================] - 1s 6ms/step - loss: 0.4222 - accuracy: 0.8349 - val_loss: 0.4037 - val_accuracy: 0.8497\n",
      "Epoch 7/100\n",
      "210/210 [==============================] - 1s 5ms/step - loss: 0.4180 - accuracy: 0.8353 - val_loss: 0.4001 - val_accuracy: 0.8497\n",
      "Epoch 8/100\n",
      "210/210 [==============================] - 1s 6ms/step - loss: 0.4186 - accuracy: 0.8364 - val_loss: 0.4016 - val_accuracy: 0.8497\n",
      "Epoch 9/100\n",
      "210/210 [==============================] - 1s 6ms/step - loss: 0.4139 - accuracy: 0.8359 - val_loss: 0.4003 - val_accuracy: 0.8497\n",
      "Epoch 10/100\n",
      "210/210 [==============================] - 1s 6ms/step - loss: 0.4156 - accuracy: 0.8358 - val_loss: 0.4002 - val_accuracy: 0.8497\n",
      "Epoch 11/100\n",
      "210/210 [==============================] - 1s 6ms/step - loss: 0.4151 - accuracy: 0.8350 - val_loss: 0.3995 - val_accuracy: 0.8497\n",
      "Epoch 12/100\n",
      "210/210 [==============================] - 1s 5ms/step - loss: 0.4139 - accuracy: 0.8353 - val_loss: 0.4017 - val_accuracy: 0.8497\n"
     ]
    }
   ],
   "source": [
    "result = model.fit(X_train, y_train,\n",
    " validation_data = (X_test, y_test),\n",
    " callbacks = [es],\n",
    " epochs = 100)"
   ]
  },
  {
   "cell_type": "code",
   "execution_count": 27,
   "id": "1d63bd20",
   "metadata": {
    "execution": {
     "iopub.execute_input": "2022-03-29T20:07:20.493508Z",
     "iopub.status.busy": "2022-03-29T20:07:20.492686Z",
     "iopub.status.idle": "2022-03-29T20:07:24.149612Z",
     "shell.execute_reply": "2022-03-29T20:07:24.150104Z",
     "shell.execute_reply.started": "2022-03-29T19:57:06.503646Z"
    },
    "papermill": {
     "duration": 3.762817,
     "end_time": "2022-03-29T20:07:24.150285",
     "exception": false,
     "start_time": "2022-03-29T20:07:20.387468",
     "status": "completed"
    },
    "tags": []
   },
   "outputs": [],
   "source": [
    "y_pred = model.predict(X_test) >=0.5"
   ]
  },
  {
   "cell_type": "markdown",
   "id": "2f12eba7",
   "metadata": {
    "papermill": {
     "duration": 0.102133,
     "end_time": "2022-03-29T20:07:24.353142",
     "exception": false,
     "start_time": "2022-03-29T20:07:24.251009",
     "status": "completed"
    },
    "tags": []
   },
   "source": [
    "**Model testing**"
   ]
  },
  {
   "cell_type": "code",
   "execution_count": 28,
   "id": "79a94320",
   "metadata": {
    "execution": {
     "iopub.execute_input": "2022-03-29T20:07:24.559488Z",
     "iopub.status.busy": "2022-03-29T20:07:24.558808Z",
     "iopub.status.idle": "2022-03-29T20:07:24.562891Z",
     "shell.execute_reply": "2022-03-29T20:07:24.563485Z",
     "shell.execute_reply.started": "2022-03-29T19:57:08.335887Z"
    },
    "papermill": {
     "duration": 0.109671,
     "end_time": "2022-03-29T20:07:24.563657",
     "exception": false,
     "start_time": "2022-03-29T20:07:24.453986",
     "status": "completed"
    },
    "tags": []
   },
   "outputs": [
    {
     "data": {
      "text/plain": [
       "0.8496868475991649"
      ]
     },
     "execution_count": 28,
     "metadata": {},
     "output_type": "execute_result"
    }
   ],
   "source": [
    "from sklearn.metrics import accuracy_score, confusion_matrix\n",
    "accuracy_score(y_pred, y_test)"
   ]
  },
  {
   "cell_type": "code",
   "execution_count": 29,
   "id": "a91bfb40",
   "metadata": {
    "execution": {
     "iopub.execute_input": "2022-03-29T20:07:24.770592Z",
     "iopub.status.busy": "2022-03-29T20:07:24.769887Z",
     "iopub.status.idle": "2022-03-29T20:07:24.776476Z",
     "shell.execute_reply": "2022-03-29T20:07:24.775832Z",
     "shell.execute_reply.started": "2022-03-29T19:57:08.345192Z"
    },
    "papermill": {
     "duration": 0.112177,
     "end_time": "2022-03-29T20:07:24.776629",
     "exception": false,
     "start_time": "2022-03-29T20:07:24.664452",
     "status": "completed"
    },
    "tags": []
   },
   "outputs": [
    {
     "data": {
      "text/plain": [
       "array([[2442,  432],\n",
       "       [   0,    0]], dtype=int64)"
      ]
     },
     "execution_count": 29,
     "metadata": {},
     "output_type": "execute_result"
    }
   ],
   "source": [
    "confusion_matrix(y_pred, y_test)"
   ]
  },
  {
   "cell_type": "markdown",
   "id": "ff18104c",
   "metadata": {
    "papermill": {
     "duration": 0.102004,
     "end_time": "2022-03-29T20:07:24.979649",
     "exception": false,
     "start_time": "2022-03-29T20:07:24.877645",
     "status": "completed"
    },
    "tags": []
   },
   "source": [
    "**Hyperparameter Tunning**"
   ]
  },
  {
   "cell_type": "code",
   "execution_count": 30,
   "id": "8c55fc14",
   "metadata": {
    "execution": {
     "iopub.execute_input": "2022-03-29T20:07:25.189794Z",
     "iopub.status.busy": "2022-03-29T20:07:25.189121Z",
     "iopub.status.idle": "2022-03-29T20:07:36.445042Z",
     "shell.execute_reply": "2022-03-29T20:07:36.444382Z",
     "shell.execute_reply.started": "2022-03-29T19:57:08.357021Z"
    },
    "papermill": {
     "duration": 11.361349,
     "end_time": "2022-03-29T20:07:36.445193",
     "exception": false,
     "start_time": "2022-03-29T20:07:25.083844",
     "status": "completed"
    },
    "tags": []
   },
   "outputs": [],
   "source": [
    "!pip install -q -U keras-tuner"
   ]
  },
  {
   "cell_type": "markdown",
   "id": "7c6902b4",
   "metadata": {
    "papermill": {
     "duration": 0.102159,
     "end_time": "2022-03-29T20:07:36.650065",
     "exception": false,
     "start_time": "2022-03-29T20:07:36.547906",
     "status": "completed"
    },
    "tags": []
   },
   "source": [
    "defining limits of parameters for tuning"
   ]
  },
  {
   "cell_type": "code",
   "execution_count": 31,
   "id": "70e10fac",
   "metadata": {
    "execution": {
     "iopub.execute_input": "2022-03-29T20:07:36.871616Z",
     "iopub.status.busy": "2022-03-29T20:07:36.870901Z",
     "iopub.status.idle": "2022-03-29T20:07:36.873225Z",
     "shell.execute_reply": "2022-03-29T20:07:36.873825Z",
     "shell.execute_reply.started": "2022-03-29T19:57:15.922121Z"
    },
    "papermill": {
     "duration": 0.120123,
     "end_time": "2022-03-29T20:07:36.874000",
     "exception": false,
     "start_time": "2022-03-29T20:07:36.753877",
     "status": "completed"
    },
    "tags": []
   },
   "outputs": [],
   "source": [
    "def build_model(hp):\n",
    " model = Sequential()\n",
    "\n",
    " model.add(Dense(units = hp.Int('units', min_value = 32, max_value = 1024, step = 16),\n",
    "                                 activation = hp.Choice('actiivation',['relu','tanh']),\n",
    "                                 input_shape = (X_train.shape[1],)))\n",
    " model.add(BatchNormalization())\n",
    " model.add(Dropout(hp.Float('rate', min_value = 0.1, max_value = 0.4, step = 0.1), seed = 1234))\n",
    "\n",
    " model.add(Dense(units = hp.Int(\"units\", min_value = 32, max_value = 128, step = 16),\n",
    "                                 activation = hp.Choice(\"activation\", [\"relu\",\"tanh\"])))\n",
    " model.add(BatchNormalization())\n",
    " model.add(Dropout(hp.Float(\"rate\",min_value = 0.1, max_value = 0.4, step = 0.1), seed = 1234))\n",
    "\n",
    " model.add(Dense(units = hp.Int(\"units\", min_value = 32, max_value = 64, step = 16),\n",
    "                                 activation = hp.Choice(\"activation\", [\"relu\",\"tanh\"])))\n",
    " model.add(BatchNormalization())\n",
    " model.add(Dropout(hp.Float(\"rate\",min_value = 0.1, max_value = 0.4, step = 0.1), seed = 1234))\n",
    "    \n",
    " model.add(Dense(units = 1, activation = \"sigmoid\"))\n",
    "\n",
    " learning_rate = hp.Float(\"learning_rate\", min_value = 0.001, max_value = 0.1, step = 0.01)\n",
    " \n",
    " model.compile(optimizer = tf.keras.optimizers.Adam(learning_rate),\n",
    "               loss = \"binary_crossentropy\",\n",
    "               metrics = [\"accuracy\"])\n",
    " \n",
    " return model\n"
   ]
  },
  {
   "cell_type": "code",
   "execution_count": 32,
   "id": "bb0e2d76",
   "metadata": {
    "execution": {
     "iopub.execute_input": "2022-03-29T20:07:37.096773Z",
     "iopub.status.busy": "2022-03-29T20:07:37.086667Z",
     "iopub.status.idle": "2022-03-29T20:07:37.237614Z",
     "shell.execute_reply": "2022-03-29T20:07:37.236968Z",
     "shell.execute_reply.started": "2022-03-29T19:57:15.936121Z"
    },
    "papermill": {
     "duration": 0.260118,
     "end_time": "2022-03-29T20:07:37.237752",
     "exception": false,
     "start_time": "2022-03-29T20:07:36.977634",
     "status": "completed"
    },
    "tags": []
   },
   "outputs": [
    {
     "data": {
      "text/plain": [
       "<keras.engine.sequential.Sequential at 0x20be5751a90>"
      ]
     },
     "execution_count": 32,
     "metadata": {},
     "output_type": "execute_result"
    }
   ],
   "source": [
    "import keras_tuner as kt\n",
    "build_model(kt.HyperParameters())"
   ]
  },
  {
   "cell_type": "markdown",
   "id": "fb860af8",
   "metadata": {
    "papermill": {
     "duration": 0.101258,
     "end_time": "2022-03-29T20:07:37.441329",
     "exception": false,
     "start_time": "2022-03-29T20:07:37.340071",
     "status": "completed"
    },
    "tags": []
   },
   "source": [
    "Setting rules for tuning "
   ]
  },
  {
   "cell_type": "code",
   "execution_count": 33,
   "id": "9d29757a",
   "metadata": {
    "execution": {
     "iopub.execute_input": "2022-03-29T20:07:37.655730Z",
     "iopub.status.busy": "2022-03-29T20:07:37.654684Z",
     "iopub.status.idle": "2022-03-29T20:07:37.746493Z",
     "shell.execute_reply": "2022-03-29T20:07:37.745843Z",
     "shell.execute_reply.started": "2022-03-29T19:57:16.039457Z"
    },
    "papermill": {
     "duration": 0.201792,
     "end_time": "2022-03-29T20:07:37.746636",
     "exception": false,
     "start_time": "2022-03-29T20:07:37.544844",
     "status": "completed"
    },
    "tags": []
   },
   "outputs": [],
   "source": [
    "rtuner = kt.RandomSearch(hypermodel = build_model,\n",
    " objective='val_accuracy',\n",
    " max_trials=3,\n",
    " executions_per_trial=2,\n",
    " overwrite=True,\n",
    " directory='my_dir',\n",
    " project_name='diab')"
   ]
  },
  {
   "cell_type": "markdown",
   "id": "92cbafc2",
   "metadata": {
    "papermill": {
     "duration": 0.114594,
     "end_time": "2022-03-29T20:07:37.964382",
     "exception": false,
     "start_time": "2022-03-29T20:07:37.849788",
     "status": "completed"
    },
    "tags": []
   },
   "source": [
    "Tuning the parameters"
   ]
  },
  {
   "cell_type": "code",
   "execution_count": 34,
   "id": "643f0841",
   "metadata": {
    "execution": {
     "iopub.execute_input": "2022-03-29T20:07:38.177345Z",
     "iopub.status.busy": "2022-03-29T20:07:38.176252Z",
     "iopub.status.idle": "2022-03-29T20:08:03.637001Z",
     "shell.execute_reply": "2022-03-29T20:08:03.637604Z",
     "shell.execute_reply.started": "2022-03-29T19:57:16.140611Z"
    },
    "papermill": {
     "duration": 25.569211,
     "end_time": "2022-03-29T20:08:03.637797",
     "exception": false,
     "start_time": "2022-03-29T20:07:38.068586",
     "status": "completed"
    },
    "tags": []
   },
   "outputs": [
    {
     "name": "stdout",
     "output_type": "stream",
     "text": [
      "Trial 3 Complete [00h 00m 42s]\n",
      "val_accuracy: 0.849686861038208\n",
      "\n",
      "Best val_accuracy So Far: 0.849686861038208\n",
      "Total elapsed time: 00h 01m 21s\n",
      "INFO:tensorflow:Oracle triggered exit\n"
     ]
    }
   ],
   "source": [
    "rtuner.search(X_train, y_train, epochs=2, validation_data=(X_test,\n",
    "y_test))"
   ]
  },
  {
   "cell_type": "markdown",
   "id": "1fe63ba5",
   "metadata": {
    "papermill": {
     "duration": 0.103123,
     "end_time": "2022-03-29T20:08:03.844466",
     "exception": false,
     "start_time": "2022-03-29T20:08:03.741343",
     "status": "completed"
    },
    "tags": []
   },
   "source": [
    "Chosing any one model, there are two model created namely models[0] and model[1]"
   ]
  },
  {
   "cell_type": "code",
   "execution_count": 35,
   "id": "f0ae44cb",
   "metadata": {
    "execution": {
     "iopub.execute_input": "2022-03-29T20:08:04.054958Z",
     "iopub.status.busy": "2022-03-29T20:08:04.054265Z",
     "iopub.status.idle": "2022-03-29T20:08:04.760377Z",
     "shell.execute_reply": "2022-03-29T20:08:04.759694Z",
     "shell.execute_reply.started": "2022-03-29T19:57:42.390405Z"
    },
    "papermill": {
     "duration": 0.81253,
     "end_time": "2022-03-29T20:08:04.760520",
     "exception": false,
     "start_time": "2022-03-29T20:08:03.947990",
     "status": "completed"
    },
    "tags": []
   },
   "outputs": [
    {
     "name": "stdout",
     "output_type": "stream",
     "text": [
      "Model: \"sequential\"\n",
      "_________________________________________________________________\n",
      " Layer (type)                Output Shape              Param #   \n",
      "=================================================================\n",
      " dense (Dense)               (None, 944)               18880     \n",
      "                                                                 \n",
      " batch_normalization (BatchN  (None, 944)              3776      \n",
      " ormalization)                                                   \n",
      "                                                                 \n",
      " dropout (Dropout)           (None, 944)               0         \n",
      "                                                                 \n",
      " dense_1 (Dense)             (None, 944)               892080    \n",
      "                                                                 \n",
      " batch_normalization_1 (Batc  (None, 944)              3776      \n",
      " hNormalization)                                                 \n",
      "                                                                 \n",
      " dropout_1 (Dropout)         (None, 944)               0         \n",
      "                                                                 \n",
      " dense_2 (Dense)             (None, 944)               892080    \n",
      "                                                                 \n",
      " batch_normalization_2 (Batc  (None, 944)              3776      \n",
      " hNormalization)                                                 \n",
      "                                                                 \n",
      " dropout_2 (Dropout)         (None, 944)               0         \n",
      "                                                                 \n",
      " dense_3 (Dense)             (None, 1)                 945       \n",
      "                                                                 \n",
      "=================================================================\n",
      "Total params: 1,815,313\n",
      "Trainable params: 1,809,649\n",
      "Non-trainable params: 5,664\n",
      "_________________________________________________________________\n"
     ]
    }
   ],
   "source": [
    "models = rtuner.get_best_models(num_models=2)\n",
    "models[1].summary()"
   ]
  },
  {
   "cell_type": "code",
   "execution_count": 36,
   "id": "26a2ab3f",
   "metadata": {
    "execution": {
     "iopub.execute_input": "2022-03-29T20:08:04.973757Z",
     "iopub.status.busy": "2022-03-29T20:08:04.973066Z",
     "iopub.status.idle": "2022-03-29T20:08:05.256745Z",
     "shell.execute_reply": "2022-03-29T20:08:05.256046Z",
     "shell.execute_reply.started": "2022-03-29T19:57:43.094283Z"
    },
    "papermill": {
     "duration": 0.393777,
     "end_time": "2022-03-29T20:08:05.256888",
     "exception": false,
     "start_time": "2022-03-29T20:08:04.863111",
     "status": "completed"
    },
    "tags": []
   },
   "outputs": [
    {
     "data": {
      "text/plain": [
       "0.8496868475991649"
      ]
     },
     "execution_count": 36,
     "metadata": {},
     "output_type": "execute_result"
    }
   ],
   "source": [
    "y_predh = models[1].predict(X_test) >=0.5\n",
    "accuracy_score(y_predh, y_test)"
   ]
  },
  {
   "cell_type": "code",
   "execution_count": null,
   "id": "66e61ce6",
   "metadata": {
    "papermill": {
     "duration": 0.103291,
     "end_time": "2022-03-29T20:08:05.463860",
     "exception": false,
     "start_time": "2022-03-29T20:08:05.360569",
     "status": "completed"
    },
    "tags": []
   },
   "outputs": [],
   "source": []
  }
 ],
 "metadata": {
  "kernelspec": {
   "display_name": "Python 3",
   "language": "python",
   "name": "python3"
  },
  "language_info": {
   "codemirror_mode": {
    "name": "ipython",
    "version": 3
   },
   "file_extension": ".py",
   "mimetype": "text/x-python",
   "name": "python",
   "nbconvert_exporter": "python",
   "pygments_lexer": "ipython3",
   "version": "3.9.7"
  },
  "papermill": {
   "default_parameters": {},
   "duration": 81.867088,
   "end_time": "2022-03-29T20:08:09.053571",
   "environment_variables": {},
   "exception": null,
   "input_path": "__notebook__.ipynb",
   "output_path": "__notebook__.ipynb",
   "parameters": {},
   "start_time": "2022-03-29T20:06:47.186483",
   "version": "2.3.3"
  }
 },
 "nbformat": 4,
 "nbformat_minor": 5
}
